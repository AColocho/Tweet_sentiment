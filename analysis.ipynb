{
 "cells": [
  {
   "cell_type": "markdown",
   "metadata": {},
   "source": [
    "## Exploration"
   ]
  },
  {
   "cell_type": "markdown",
   "metadata": {},
   "source": [
    "Importing libraries for preprocessing, visualization, and exploration."
   ]
  },
  {
   "cell_type": "code",
   "execution_count": 243,
   "metadata": {},
   "outputs": [],
   "source": [
    "import nltk\n",
    "from nltk.corpus import stopwords\n",
    "import string\n",
    "from nltk.stem import WordNetLemmatizer\n",
    "from nltk import word_tokenize, FreqDist\n",
    "from sklearn.feature_extraction.text import TfidfVectorizer\n",
    "import pandas as pd\n",
    "import numpy as np\n",
    "import matplotlib.pyplot as plt\n",
    "import seaborn as sns\n",
    "from functions import *\n",
    "%matplotlib inline\n",
    "wml = WordNetLemmatizer()"
   ]
  },
  {
   "cell_type": "markdown",
   "metadata": {},
   "source": [
    "Importing dataset and encoding it in 'unicode_escape' due to some characters not being from the english language."
   ]
  },
  {
   "cell_type": "code",
   "execution_count": 244,
   "metadata": {},
   "outputs": [],
   "source": [
    "data = pd.read_csv('data.csv', encoding= 'unicode_escape')"
   ]
  },
  {
   "cell_type": "markdown",
   "metadata": {},
   "source": [
    "Preview top 10 rows. "
   ]
  },
  {
   "cell_type": "code",
   "execution_count": 245,
   "metadata": {},
   "outputs": [
    {
     "data": {
      "text/html": [
       "<div>\n",
       "<style scoped>\n",
       "    .dataframe tbody tr th:only-of-type {\n",
       "        vertical-align: middle;\n",
       "    }\n",
       "\n",
       "    .dataframe tbody tr th {\n",
       "        vertical-align: top;\n",
       "    }\n",
       "\n",
       "    .dataframe thead th {\n",
       "        text-align: right;\n",
       "    }\n",
       "</style>\n",
       "<table border=\"1\" class=\"dataframe\">\n",
       "  <thead>\n",
       "    <tr style=\"text-align: right;\">\n",
       "      <th></th>\n",
       "      <th>tweet_text</th>\n",
       "      <th>emotion_in_tweet_is_directed_at</th>\n",
       "      <th>is_there_an_emotion_directed_at_a_brand_or_product</th>\n",
       "    </tr>\n",
       "  </thead>\n",
       "  <tbody>\n",
       "    <tr>\n",
       "      <th>0</th>\n",
       "      <td>.@wesley83 I have a 3G iPhone. After 3 hrs twe...</td>\n",
       "      <td>iPhone</td>\n",
       "      <td>Negative emotion</td>\n",
       "    </tr>\n",
       "    <tr>\n",
       "      <th>1</th>\n",
       "      <td>@jessedee Know about @fludapp ? Awesome iPad/i...</td>\n",
       "      <td>iPad or iPhone App</td>\n",
       "      <td>Positive emotion</td>\n",
       "    </tr>\n",
       "    <tr>\n",
       "      <th>2</th>\n",
       "      <td>@swonderlin Can not wait for #iPad 2 also. The...</td>\n",
       "      <td>iPad</td>\n",
       "      <td>Positive emotion</td>\n",
       "    </tr>\n",
       "    <tr>\n",
       "      <th>3</th>\n",
       "      <td>@sxsw I hope this year's festival isn't as cra...</td>\n",
       "      <td>iPad or iPhone App</td>\n",
       "      <td>Negative emotion</td>\n",
       "    </tr>\n",
       "    <tr>\n",
       "      <th>4</th>\n",
       "      <td>@sxtxstate great stuff on Fri #SXSW: Marissa M...</td>\n",
       "      <td>Google</td>\n",
       "      <td>Positive emotion</td>\n",
       "    </tr>\n",
       "    <tr>\n",
       "      <th>5</th>\n",
       "      <td>@teachntech00 New iPad Apps For #SpeechTherapy...</td>\n",
       "      <td>NaN</td>\n",
       "      <td>No emotion toward brand or product</td>\n",
       "    </tr>\n",
       "    <tr>\n",
       "      <th>6</th>\n",
       "      <td>NaN</td>\n",
       "      <td>NaN</td>\n",
       "      <td>No emotion toward brand or product</td>\n",
       "    </tr>\n",
       "    <tr>\n",
       "      <th>7</th>\n",
       "      <td>#SXSW is just starting, #CTIA is around the co...</td>\n",
       "      <td>Android</td>\n",
       "      <td>Positive emotion</td>\n",
       "    </tr>\n",
       "    <tr>\n",
       "      <th>8</th>\n",
       "      <td>Beautifully smart and simple idea RT @madebyma...</td>\n",
       "      <td>iPad or iPhone App</td>\n",
       "      <td>Positive emotion</td>\n",
       "    </tr>\n",
       "    <tr>\n",
       "      <th>9</th>\n",
       "      <td>Counting down the days to #sxsw plus strong Ca...</td>\n",
       "      <td>Apple</td>\n",
       "      <td>Positive emotion</td>\n",
       "    </tr>\n",
       "  </tbody>\n",
       "</table>\n",
       "</div>"
      ],
      "text/plain": [
       "                                          tweet_text  \\\n",
       "0  .@wesley83 I have a 3G iPhone. After 3 hrs twe...   \n",
       "1  @jessedee Know about @fludapp ? Awesome iPad/i...   \n",
       "2  @swonderlin Can not wait for #iPad 2 also. The...   \n",
       "3  @sxsw I hope this year's festival isn't as cra...   \n",
       "4  @sxtxstate great stuff on Fri #SXSW: Marissa M...   \n",
       "5  @teachntech00 New iPad Apps For #SpeechTherapy...   \n",
       "6                                                NaN   \n",
       "7  #SXSW is just starting, #CTIA is around the co...   \n",
       "8  Beautifully smart and simple idea RT @madebyma...   \n",
       "9  Counting down the days to #sxsw plus strong Ca...   \n",
       "\n",
       "  emotion_in_tweet_is_directed_at  \\\n",
       "0                          iPhone   \n",
       "1              iPad or iPhone App   \n",
       "2                            iPad   \n",
       "3              iPad or iPhone App   \n",
       "4                          Google   \n",
       "5                             NaN   \n",
       "6                             NaN   \n",
       "7                         Android   \n",
       "8              iPad or iPhone App   \n",
       "9                           Apple   \n",
       "\n",
       "  is_there_an_emotion_directed_at_a_brand_or_product  \n",
       "0                                   Negative emotion  \n",
       "1                                   Positive emotion  \n",
       "2                                   Positive emotion  \n",
       "3                                   Negative emotion  \n",
       "4                                   Positive emotion  \n",
       "5                 No emotion toward brand or product  \n",
       "6                 No emotion toward brand or product  \n",
       "7                                   Positive emotion  \n",
       "8                                   Positive emotion  \n",
       "9                                   Positive emotion  "
      ]
     },
     "execution_count": 245,
     "metadata": {},
     "output_type": "execute_result"
    }
   ],
   "source": [
    "data.head(10)"
   ]
  },
  {
   "cell_type": "markdown",
   "metadata": {},
   "source": [
    "Removing column 'emotion_in_tweet_is_directed_at' due to column not being part of analysis."
   ]
  },
  {
   "cell_type": "code",
   "execution_count": 246,
   "metadata": {},
   "outputs": [],
   "source": [
    "data = data.drop('emotion_in_tweet_is_directed_at',1)"
   ]
  },
  {
   "cell_type": "markdown",
   "metadata": {},
   "source": [
    "Getting info of pandas data frame."
   ]
  },
  {
   "cell_type": "code",
   "execution_count": 247,
   "metadata": {},
   "outputs": [
    {
     "name": "stdout",
     "output_type": "stream",
     "text": [
      "<class 'pandas.core.frame.DataFrame'>\n",
      "RangeIndex: 9093 entries, 0 to 9092\n",
      "Data columns (total 2 columns):\n",
      " #   Column                                              Non-Null Count  Dtype \n",
      "---  ------                                              --------------  ----- \n",
      " 0   tweet_text                                          9092 non-null   object\n",
      " 1   is_there_an_emotion_directed_at_a_brand_or_product  9093 non-null   object\n",
      "dtypes: object(2)\n",
      "memory usage: 142.2+ KB\n"
     ]
    }
   ],
   "source": [
    "data.info()"
   ]
  },
  {
   "cell_type": "markdown",
   "metadata": {},
   "source": [
    "Checking unique values of 'is_there_an_emotion_directed_at_a_brand_or_product'."
   ]
  },
  {
   "cell_type": "code",
   "execution_count": 248,
   "metadata": {},
   "outputs": [
    {
     "data": {
      "text/plain": [
       "array(['Negative emotion', 'Positive emotion',\n",
       "       'No emotion toward brand or product', \"I can't tell\"], dtype=object)"
      ]
     },
     "execution_count": 248,
     "metadata": {},
     "output_type": "execute_result"
    }
   ],
   "source": [
    "data.is_there_an_emotion_directed_at_a_brand_or_product.unique()"
   ]
  },
  {
   "cell_type": "markdown",
   "metadata": {},
   "source": [
    "Checking NaN values of 'tweet_text'"
   ]
  },
  {
   "cell_type": "code",
   "execution_count": 249,
   "metadata": {},
   "outputs": [
    {
     "data": {
      "text/plain": [
       "1"
      ]
     },
     "execution_count": 249,
     "metadata": {},
     "output_type": "execute_result"
    }
   ],
   "source": [
    "data.tweet_text.isna().sum()"
   ]
  },
  {
   "cell_type": "markdown",
   "metadata": {},
   "source": [
    "Checking 'I can't tell' categorie in 'is_there_an_emotion_directed_at_a_brand_or_product'."
   ]
  },
  {
   "cell_type": "raw",
   "metadata": {},
   "source": [
    "data[data.is_there_an_emotion_directed_at_a_brand_or_product == \"I can't tell\"]"
   ]
  },
  {
   "cell_type": "markdown",
   "metadata": {},
   "source": [
    "Renaming 'tweet_text' to 'tweet' and 'is_there_an_emotion_directed_at_a_brand_or_product' to 'emotion' for ease of use."
   ]
  },
  {
   "cell_type": "code",
   "execution_count": 250,
   "metadata": {},
   "outputs": [],
   "source": [
    "data = data.rename(columns={\"tweet_text\":'tweet','is_there_an_emotion_directed_at_a_brand_or_product':'emotion'})"
   ]
  },
  {
   "cell_type": "markdown",
   "metadata": {},
   "source": [
    "Removing 'I can't tell' from emotion and NaN values from tweet."
   ]
  },
  {
   "cell_type": "code",
   "execution_count": 251,
   "metadata": {},
   "outputs": [
    {
     "data": {
      "text/html": [
       "<div>\n",
       "<style scoped>\n",
       "    .dataframe tbody tr th:only-of-type {\n",
       "        vertical-align: middle;\n",
       "    }\n",
       "\n",
       "    .dataframe tbody tr th {\n",
       "        vertical-align: top;\n",
       "    }\n",
       "\n",
       "    .dataframe thead th {\n",
       "        text-align: right;\n",
       "    }\n",
       "</style>\n",
       "<table border=\"1\" class=\"dataframe\">\n",
       "  <thead>\n",
       "    <tr style=\"text-align: right;\">\n",
       "      <th></th>\n",
       "      <th>tweet</th>\n",
       "      <th>emotion</th>\n",
       "    </tr>\n",
       "  </thead>\n",
       "  <tbody>\n",
       "    <tr>\n",
       "      <th>0</th>\n",
       "      <td>.@wesley83 I have a 3G iPhone. After 3 hrs twe...</td>\n",
       "      <td>Negative emotion</td>\n",
       "    </tr>\n",
       "    <tr>\n",
       "      <th>1</th>\n",
       "      <td>@jessedee Know about @fludapp ? Awesome iPad/i...</td>\n",
       "      <td>Positive emotion</td>\n",
       "    </tr>\n",
       "    <tr>\n",
       "      <th>2</th>\n",
       "      <td>@swonderlin Can not wait for #iPad 2 also. The...</td>\n",
       "      <td>Positive emotion</td>\n",
       "    </tr>\n",
       "    <tr>\n",
       "      <th>3</th>\n",
       "      <td>@sxsw I hope this year's festival isn't as cra...</td>\n",
       "      <td>Negative emotion</td>\n",
       "    </tr>\n",
       "    <tr>\n",
       "      <th>4</th>\n",
       "      <td>@sxtxstate great stuff on Fri #SXSW: Marissa M...</td>\n",
       "      <td>Positive emotion</td>\n",
       "    </tr>\n",
       "    <tr>\n",
       "      <th>...</th>\n",
       "      <td>...</td>\n",
       "      <td>...</td>\n",
       "    </tr>\n",
       "    <tr>\n",
       "      <th>9088</th>\n",
       "      <td>Ipad everywhere. #SXSW {link}</td>\n",
       "      <td>Positive emotion</td>\n",
       "    </tr>\n",
       "    <tr>\n",
       "      <th>9089</th>\n",
       "      <td>Wave, buzz... RT @mention We interrupt your re...</td>\n",
       "      <td>No emotion toward brand or product</td>\n",
       "    </tr>\n",
       "    <tr>\n",
       "      <th>9090</th>\n",
       "      <td>Google's Zeiger, a physician never reported po...</td>\n",
       "      <td>No emotion toward brand or product</td>\n",
       "    </tr>\n",
       "    <tr>\n",
       "      <th>9091</th>\n",
       "      <td>Some Verizon iPhone customers complained their...</td>\n",
       "      <td>No emotion toward brand or product</td>\n",
       "    </tr>\n",
       "    <tr>\n",
       "      <th>9092</th>\n",
       "      <td>Ï¡Ïàü_ÊÎÒ£Áââ_£â_ÛâRT @...</td>\n",
       "      <td>No emotion toward brand or product</td>\n",
       "    </tr>\n",
       "  </tbody>\n",
       "</table>\n",
       "<p>8936 rows × 2 columns</p>\n",
       "</div>"
      ],
      "text/plain": [
       "                                                  tweet  \\\n",
       "0     .@wesley83 I have a 3G iPhone. After 3 hrs twe...   \n",
       "1     @jessedee Know about @fludapp ? Awesome iPad/i...   \n",
       "2     @swonderlin Can not wait for #iPad 2 also. The...   \n",
       "3     @sxsw I hope this year's festival isn't as cra...   \n",
       "4     @sxtxstate great stuff on Fri #SXSW: Marissa M...   \n",
       "...                                                 ...   \n",
       "9088                      Ipad everywhere. #SXSW {link}   \n",
       "9089  Wave, buzz... RT @mention We interrupt your re...   \n",
       "9090  Google's Zeiger, a physician never reported po...   \n",
       "9091  Some Verizon iPhone customers complained their...   \n",
       "9092  Ï¡Ïàü_ÊÎÒ£Áââ_£â_ÛâRT @...   \n",
       "\n",
       "                                 emotion  \n",
       "0                       Negative emotion  \n",
       "1                       Positive emotion  \n",
       "2                       Positive emotion  \n",
       "3                       Negative emotion  \n",
       "4                       Positive emotion  \n",
       "...                                  ...  \n",
       "9088                    Positive emotion  \n",
       "9089  No emotion toward brand or product  \n",
       "9090  No emotion toward brand or product  \n",
       "9091  No emotion toward brand or product  \n",
       "9092  No emotion toward brand or product  \n",
       "\n",
       "[8936 rows x 2 columns]"
      ]
     },
     "execution_count": 251,
     "metadata": {},
     "output_type": "execute_result"
    }
   ],
   "source": [
    "data = data.loc[(data.emotion != \"I can't tell\") & (data.tweet.isna() != True)]\n",
    "data"
   ]
  },
  {
   "cell_type": "markdown",
   "metadata": {},
   "source": [
    "Renaming categories in emotion from 'Positive emotion', 'Negative Emotion', and 'Neutral Emotion' to 'positive', 'negative', and 'neutral' in that order. "
   ]
  },
  {
   "cell_type": "code",
   "execution_count": 252,
   "metadata": {},
   "outputs": [
    {
     "data": {
      "text/html": [
       "<div>\n",
       "<style scoped>\n",
       "    .dataframe tbody tr th:only-of-type {\n",
       "        vertical-align: middle;\n",
       "    }\n",
       "\n",
       "    .dataframe tbody tr th {\n",
       "        vertical-align: top;\n",
       "    }\n",
       "\n",
       "    .dataframe thead th {\n",
       "        text-align: right;\n",
       "    }\n",
       "</style>\n",
       "<table border=\"1\" class=\"dataframe\">\n",
       "  <thead>\n",
       "    <tr style=\"text-align: right;\">\n",
       "      <th></th>\n",
       "      <th>tweet</th>\n",
       "      <th>emotion</th>\n",
       "    </tr>\n",
       "  </thead>\n",
       "  <tbody>\n",
       "    <tr>\n",
       "      <th>0</th>\n",
       "      <td>.@wesley83 I have a 3G iPhone. After 3 hrs twe...</td>\n",
       "      <td>negative</td>\n",
       "    </tr>\n",
       "    <tr>\n",
       "      <th>1</th>\n",
       "      <td>@jessedee Know about @fludapp ? Awesome iPad/i...</td>\n",
       "      <td>positive</td>\n",
       "    </tr>\n",
       "    <tr>\n",
       "      <th>2</th>\n",
       "      <td>@swonderlin Can not wait for #iPad 2 also. The...</td>\n",
       "      <td>positive</td>\n",
       "    </tr>\n",
       "    <tr>\n",
       "      <th>3</th>\n",
       "      <td>@sxsw I hope this year's festival isn't as cra...</td>\n",
       "      <td>negative</td>\n",
       "    </tr>\n",
       "    <tr>\n",
       "      <th>4</th>\n",
       "      <td>@sxtxstate great stuff on Fri #SXSW: Marissa M...</td>\n",
       "      <td>positive</td>\n",
       "    </tr>\n",
       "    <tr>\n",
       "      <th>...</th>\n",
       "      <td>...</td>\n",
       "      <td>...</td>\n",
       "    </tr>\n",
       "    <tr>\n",
       "      <th>9088</th>\n",
       "      <td>Ipad everywhere. #SXSW {link}</td>\n",
       "      <td>positive</td>\n",
       "    </tr>\n",
       "    <tr>\n",
       "      <th>9089</th>\n",
       "      <td>Wave, buzz... RT @mention We interrupt your re...</td>\n",
       "      <td>neutral</td>\n",
       "    </tr>\n",
       "    <tr>\n",
       "      <th>9090</th>\n",
       "      <td>Google's Zeiger, a physician never reported po...</td>\n",
       "      <td>neutral</td>\n",
       "    </tr>\n",
       "    <tr>\n",
       "      <th>9091</th>\n",
       "      <td>Some Verizon iPhone customers complained their...</td>\n",
       "      <td>neutral</td>\n",
       "    </tr>\n",
       "    <tr>\n",
       "      <th>9092</th>\n",
       "      <td>Ï¡Ïàü_ÊÎÒ£Áââ_£â_ÛâRT @...</td>\n",
       "      <td>neutral</td>\n",
       "    </tr>\n",
       "  </tbody>\n",
       "</table>\n",
       "<p>8936 rows × 2 columns</p>\n",
       "</div>"
      ],
      "text/plain": [
       "                                                  tweet   emotion\n",
       "0     .@wesley83 I have a 3G iPhone. After 3 hrs twe...  negative\n",
       "1     @jessedee Know about @fludapp ? Awesome iPad/i...  positive\n",
       "2     @swonderlin Can not wait for #iPad 2 also. The...  positive\n",
       "3     @sxsw I hope this year's festival isn't as cra...  negative\n",
       "4     @sxtxstate great stuff on Fri #SXSW: Marissa M...  positive\n",
       "...                                                 ...       ...\n",
       "9088                      Ipad everywhere. #SXSW {link}  positive\n",
       "9089  Wave, buzz... RT @mention We interrupt your re...   neutral\n",
       "9090  Google's Zeiger, a physician never reported po...   neutral\n",
       "9091  Some Verizon iPhone customers complained their...   neutral\n",
       "9092  Ï¡Ïàü_ÊÎÒ£Áââ_£â_ÛâRT @...   neutral\n",
       "\n",
       "[8936 rows x 2 columns]"
      ]
     },
     "execution_count": 252,
     "metadata": {},
     "output_type": "execute_result"
    }
   ],
   "source": [
    "data.emotion = data.emotion.map(lambda x: 'positive' if x == 'Positive emotion' else 'negative' if x == 'Negative emotion' else 'neutral')\n",
    "data"
   ]
  },
  {
   "cell_type": "markdown",
   "metadata": {},
   "source": [
    "Separating positive, negative, and neutral from emotions and visualizating quantity of data. "
   ]
  },
  {
   "cell_type": "code",
   "execution_count": 253,
   "metadata": {},
   "outputs": [
    {
     "data": {
      "text/plain": [
       "Text(0, 0.5, 'Data Points')"
      ]
     },
     "execution_count": 253,
     "metadata": {},
     "output_type": "execute_result"
    },
    {
     "data": {
      "image/png": "[encoded data removed]",
      "text/plain": [
       "<Figure size 432x288 with 1 Axes>"
      ]
     },
     "metadata": {
      "needs_background": "light"
     },
     "output_type": "display_data"
    }
   ],
   "source": [
    "positive = data.loc[data.emotion == 'positive']\n",
    "negative = data.loc[data.emotion == 'negative']\n",
    "neutral = data.loc[data.emotion == 'neutral']\n",
    "sns.barplot(['Positive','Negative','Neutral'],[positive.count()[0],negative.count()[0],neutral.count()[0]])\n",
    "plt.title('Data Points Per Category')\n",
    "plt.ylabel('Data Points')"
   ]
  },
  {
   "cell_type": "markdown",
   "metadata": {},
   "source": [
    "Tokenizing words from positive, negative, and neutral category."
   ]
  },
  {
   "cell_type": "code",
   "execution_count": 254,
   "metadata": {},
   "outputs": [],
   "source": [
    "tokenizedPositive = [word_tokenize(i) for i in positive.tweet]\n",
    "tokenizedNegative = [word_tokenize(i) for i in negative.tweet]\n",
    "tokenizedNeutral = [word_tokenize(i) for i in neutral.tweet]"
   ]
  },
  {
   "cell_type": "markdown",
   "metadata": {},
   "source": [
    "Checking unique words from each emotion category. "
   ]
  },
  {
   "cell_type": "code",
   "execution_count": 255,
   "metadata": {},
   "outputs": [
    {
     "name": "stdout",
     "output_type": "stream",
     "text": [
      "Unique Positive 6692\n",
      "Unique Negative 2574\n",
      "Unique Neutral 9784\n"
     ]
    }
   ],
   "source": [
    "posUnique = uniqueWords(tokenizedPositive)\n",
    "negUnique = uniqueWords(tokenizedNegative)\n",
    "neutUnique = uniqueWords(tokenizedNeutral)\n",
    "print('Unique Positive {}'.format(posUnique))\n",
    "print('Unique Negative {}'.format(negUnique))\n",
    "print('Unique Neutral {}'.format(neutUnique))"
   ]
  },
  {
   "cell_type": "markdown",
   "metadata": {},
   "source": [
    "Cleaning tokenized categories by removing stopwords and punctuation. "
   ]
  },
  {
   "cell_type": "code",
   "execution_count": 256,
   "metadata": {},
   "outputs": [],
   "source": [
    "cleanPositive = cleanTokenList(tokenizedPositive)\n",
    "cleanNegative = cleanTokenList(tokenizedNegative)\n",
    "cleanNeutral = cleanTokenList(tokenizedNeutral)"
   ]
  },
  {
   "cell_type": "markdown",
   "metadata": {},
   "source": [
    "Lemmatizing words in cleaned lists."
   ]
  },
  {
   "cell_type": "code",
   "execution_count": 257,
   "metadata": {},
   "outputs": [],
   "source": [
    "lemPositive = [wml.lemmatize(i) for i in cleanPositive]\n",
    "lemNegative = [wml.lemmatize(i) for i in cleanNegative]\n",
    "lemNeutral = [wml.lemmatize(i) for i in cleanNeutral]"
   ]
  },
  {
   "cell_type": "markdown",
   "metadata": {},
   "source": [
    "Checking frequency of words. "
   ]
  },
  {
   "cell_type": "code",
   "execution_count": 258,
   "metadata": {},
   "outputs": [],
   "source": [
    "freqPositive = FreqDist(lemPositive)\n",
    "freqNegative = FreqDist(lemNegative)\n",
    "freqNeutral = FreqDist(lemNeutral)"
   ]
  },
  {
   "cell_type": "markdown",
   "metadata": {},
   "source": [
    "Ordering frequency dictionary by value."
   ]
  },
  {
   "cell_type": "code",
   "execution_count": 259,
   "metadata": {},
   "outputs": [],
   "source": [
    "orderedPositive = {k: v for k, v in sorted(freqPositive.items(), key=lambda item: item[1],reverse= True)}\n",
    "orderedNegative = {k: v for k, v in sorted(freqNegative.items(), key=lambda item: item[1],reverse= True)}\n",
    "orderedNeutral = {k: v for k, v in sorted(freqNeutral.items(), key=lambda item: item[1],reverse= True)}"
   ]
  },
  {
   "cell_type": "markdown",
   "metadata": {},
   "source": [
    "Visualizing ordered frequency for positive, negative, and neutral category. "
   ]
  },
  {
   "cell_type": "code",
   "execution_count": 260,
   "metadata": {},
   "outputs": [
    {
     "data": {
      "image/png": "[encoded data removed]",
      "text/plain": [
       "<Figure size 1080x720 with 4 Axes>"
      ]
     },
     "metadata": {},
     "output_type": "display_data"
    }
   ],
   "source": [
    "with plt.style.context('ggplot'):\n",
    "    fig, ax = plt.subplots(nrows=2, ncols=2,figsize=(15,10))\n",
    "    orderedData = [orderedPositive,orderedNegative,orderedNeutral]\n",
    "    title = ['Positive','Negative','Neutral']\n",
    "    i = 0\n",
    "    for row in ax:\n",
    "        for col in row:\n",
    "            x = list(orderedData[i].keys())[:10]\n",
    "            y = list(orderedData[i].values())[:10]\n",
    "            sns.barplot(x,y,ax=col)\n",
    "            col.title.set_text(title[i])\n",
    "            col.set_ylabel('Frequency')\n",
    "            i += 1\n",
    "            if i == 3:\n",
    "                break\n",
    "        if i == 3:\n",
    "            break"
   ]
  },
  {
   "cell_type": "markdown",
   "metadata": {},
   "source": [
    "Finding unique words for positive and negative emotion."
   ]
  },
  {
   "cell_type": "code",
   "execution_count": 261,
   "metadata": {},
   "outputs": [],
   "source": [
    "positiveWords = [word for word in lemPositive if word not in lemNegative]\n",
    "negativeWords = [word for word in lemNegative if word not in lemPositive]"
   ]
  },
  {
   "cell_type": "markdown",
   "metadata": {},
   "source": [
    "Checking frequency of words."
   ]
  },
  {
   "cell_type": "code",
   "execution_count": 262,
   "metadata": {},
   "outputs": [],
   "source": [
    "freqPositiveWords = FreqDist(positiveWords)\n",
    "negativeWords = FreqDist(negativeWords)"
   ]
  },
  {
   "cell_type": "markdown",
   "metadata": {},
   "source": [
    "Ordering frequency dictionary by value."
   ]
  },
  {
   "cell_type": "code",
   "execution_count": 263,
   "metadata": {},
   "outputs": [],
   "source": [
    "orderedPositiveWords = {k: v for k, v in sorted(freqPositiveWords.items(), key=lambda item: item[1],reverse= True)}\n",
    "orderedNegativeWords = {k: v for k, v in sorted(negativeWords.items(), key=lambda item: item[1],reverse= True)}"
   ]
  },
  {
   "cell_type": "markdown",
   "metadata": {},
   "source": [
    "visualizing unique positive and negative words."
   ]
  },
  {
   "cell_type": "code",
   "execution_count": 268,
   "metadata": {},
   "outputs": [
    {
     "data": {
      "image/png": "[encoded data removed]",
      "text/plain": [
       "<Figure size 1440x360 with 2 Axes>"
      ]
     },
     "metadata": {},
     "output_type": "display_data"
    }
   ],
   "source": [
    "with plt.style.context('ggplot'):\n",
    "    orderedData = [orderedPositiveWords,orderedNegativeWords]\n",
    "    titles = ['Positive','Negative']\n",
    "    i = 0\n",
    "    fig, ax = plt.subplots(nrows=1, ncols=2,figsize=(20,5))\n",
    "    for col in ax:\n",
    "        x = list(orderedData[i].keys())[:10]\n",
    "        y = list(orderedData[i].values())[:10]\n",
    "        sns.barplot(x,y,ax=col)\n",
    "        col.set_ylabel('Frequency')\n",
    "        col.set_title(titles[i])\n",
    "        i += 1"
   ]
  },
  {
   "cell_type": "markdown",
   "metadata": {},
   "source": [
    "## Analysis"
   ]
  },
  {
   "cell_type": "markdown",
   "metadata": {},
   "source": [
    "Importing classifiers, metrics, and modeling tools."
   ]
  },
  {
   "cell_type": "code",
   "execution_count": 269,
   "metadata": {},
   "outputs": [],
   "source": [
    "from sklearn.metrics import f1_score,accuracy_score,recall_score,precision_score,confusion_matrix,classification_report\n",
    "from sklearn.multiclass import OneVsOneClassifier,OneVsRestClassifier\n",
    "from sklearn.linear_model import LogisticRegression\n",
    "from sklearn.neighbors import KNeighborsClassifier\n",
    "from sklearn.naive_bayes import MultinomialNB\n",
    "from sklearn.tree import DecisionTreeClassifier\n",
    "from sklearn.ensemble import RandomForestClassifier\n",
    "from sklearn.ensemble import AdaBoostClassifier\n",
    "from sklearn.ensemble import GradientBoostingClassifier\n",
    "from sklearn.svm import SVC\n",
    "from xgboost import XGBClassifier as xgbc\n",
    "from sklearn.feature_extraction.text import TfidfVectorizer\n",
    "from sklearn.model_selection import train_test_split\n",
    "from imblearn.over_sampling import SMOTE\n",
    "from sklearn.model_selection import GridSearchCV as grid\n",
    "sm = SMOTE(random_state = 0)\n",
    "vectorizer = TfidfVectorizer()"
   ]
  },
  {
   "cell_type": "markdown",
   "metadata": {},
   "source": [
    "### Iteration 1 (Binary)"
   ]
  },
  {
   "cell_type": "markdown",
   "metadata": {},
   "source": [
    "Making binary data frame by removing 'neutral' emotion."
   ]
  },
  {
   "cell_type": "code",
   "execution_count": 270,
   "metadata": {},
   "outputs": [],
   "source": [
    "binaryData = data.loc[data.emotion != 'neutral']"
   ]
  },
  {
   "cell_type": "markdown",
   "metadata": {},
   "source": [
    "Cleaning tweets and making positive = 1 and negative = 0."
   ]
  },
  {
   "cell_type": "code",
   "execution_count": 271,
   "metadata": {},
   "outputs": [],
   "source": [
    "binaryTweet = binaryData.tweet.map(cleanTweets)\n",
    "binaryTweetTarget = binaryData.emotion.map(lambda x: 1 if x=='positive' else 0)"
   ]
  },
  {
   "cell_type": "markdown",
   "metadata": {},
   "source": [
    "Vectorizing tweets."
   ]
  },
  {
   "cell_type": "code",
   "execution_count": 272,
   "metadata": {},
   "outputs": [],
   "source": [
    "binaryVectorTweet = vectorizer.fit_transform(binaryTweet)"
   ]
  },
  {
   "cell_type": "code",
   "execution_count": 273,
   "metadata": {},
   "outputs": [
    {
     "data": {
      "text/plain": [
       "(3548, 5550)"
      ]
     },
     "execution_count": 273,
     "metadata": {},
     "output_type": "execute_result"
    }
   ],
   "source": [
    "binaryVectorTweet.shape"
   ]
  },
  {
   "cell_type": "markdown",
   "metadata": {},
   "source": [
    "splitting tweets into train and test sets."
   ]
  },
  {
   "cell_type": "code",
   "execution_count": 274,
   "metadata": {},
   "outputs": [],
   "source": [
    "X_train, X_test, y_train, y_test = train_test_split(binaryVectorTweet,binaryTweetTarget,random_state=0)"
   ]
  },
  {
   "cell_type": "markdown",
   "metadata": {},
   "source": [
    "Using multiple vanilla classifiers and compaing their results."
   ]
  },
  {
   "cell_type": "code",
   "execution_count": 275,
   "metadata": {},
   "outputs": [],
   "source": [
    "algos = {'Logistic Regression':LogisticRegression(),'K-Neighbors':KNeighborsClassifier(),\n",
    "         'Decision Tree':DecisionTreeClassifier(),'Random Forest':RandomForestClassifier(),\n",
    "         'AdaBoost':AdaBoostClassifier(),'Gradient Boost':GradientBoostingClassifier(),\n",
    "         'XGBoost Classifier':xgbc(),'SVC':SVC(),'Naive Bayes':MultinomialNB()}"
   ]
  },
  {
   "cell_type": "code",
   "execution_count": 276,
   "metadata": {
    "scrolled": true
   },
   "outputs": [
    {
     "data": {
      "text/html": [
       "<div>\n",
       "<style scoped>\n",
       "    .dataframe tbody tr th:only-of-type {\n",
       "        vertical-align: middle;\n",
       "    }\n",
       "\n",
       "    .dataframe tbody tr th {\n",
       "        vertical-align: top;\n",
       "    }\n",
       "\n",
       "    .dataframe thead th {\n",
       "        text-align: right;\n",
       "    }\n",
       "</style>\n",
       "<table border=\"1\" class=\"dataframe\">\n",
       "  <thead>\n",
       "    <tr style=\"text-align: right;\">\n",
       "      <th></th>\n",
       "      <th>Models</th>\n",
       "      <th>Training Accuracy</th>\n",
       "      <th>Test Accuracy</th>\n",
       "      <th>F1 Train</th>\n",
       "      <th>F1 Test</th>\n",
       "    </tr>\n",
       "  </thead>\n",
       "  <tbody>\n",
       "    <tr>\n",
       "      <th>7</th>\n",
       "      <td>SVC</td>\n",
       "      <td>0.976325</td>\n",
       "      <td>0.866967</td>\n",
       "      <td>0.986126</td>\n",
       "      <td>0.925786</td>\n",
       "    </tr>\n",
       "    <tr>\n",
       "      <th>3</th>\n",
       "      <td>Random Forest</td>\n",
       "      <td>1.000000</td>\n",
       "      <td>0.865840</td>\n",
       "      <td>1.000000</td>\n",
       "      <td>0.925204</td>\n",
       "    </tr>\n",
       "    <tr>\n",
       "      <th>6</th>\n",
       "      <td>XGBoost Classifier</td>\n",
       "      <td>0.949267</td>\n",
       "      <td>0.862458</td>\n",
       "      <td>0.970722</td>\n",
       "      <td>0.921795</td>\n",
       "    </tr>\n",
       "    <tr>\n",
       "      <th>5</th>\n",
       "      <td>Gradient Boost</td>\n",
       "      <td>0.881248</td>\n",
       "      <td>0.852311</td>\n",
       "      <td>0.934112</td>\n",
       "      <td>0.918176</td>\n",
       "    </tr>\n",
       "    <tr>\n",
       "      <th>4</th>\n",
       "      <td>AdaBoost</td>\n",
       "      <td>0.877490</td>\n",
       "      <td>0.850056</td>\n",
       "      <td>0.931224</td>\n",
       "      <td>0.915769</td>\n",
       "    </tr>\n",
       "    <tr>\n",
       "      <th>0</th>\n",
       "      <td>Logistic Regression</td>\n",
       "      <td>0.862834</td>\n",
       "      <td>0.845547</td>\n",
       "      <td>0.924633</td>\n",
       "      <td>0.914960</td>\n",
       "    </tr>\n",
       "    <tr>\n",
       "      <th>1</th>\n",
       "      <td>K-Neighbors</td>\n",
       "      <td>0.888388</td>\n",
       "      <td>0.842165</td>\n",
       "      <td>0.937063</td>\n",
       "      <td>0.911839</td>\n",
       "    </tr>\n",
       "    <tr>\n",
       "      <th>8</th>\n",
       "      <td>Naive Bayes</td>\n",
       "      <td>0.853814</td>\n",
       "      <td>0.839910</td>\n",
       "      <td>0.920107</td>\n",
       "      <td>0.912237</td>\n",
       "    </tr>\n",
       "    <tr>\n",
       "      <th>2</th>\n",
       "      <td>Decision Tree</td>\n",
       "      <td>1.000000</td>\n",
       "      <td>0.832018</td>\n",
       "      <td>1.000000</td>\n",
       "      <td>0.902038</td>\n",
       "    </tr>\n",
       "  </tbody>\n",
       "</table>\n",
       "</div>"
      ],
      "text/plain": [
       "                Models  Training Accuracy  Test Accuracy  F1 Train   F1 Test\n",
       "7                  SVC           0.976325       0.866967  0.986126  0.925786\n",
       "3        Random Forest           1.000000       0.865840  1.000000  0.925204\n",
       "6   XGBoost Classifier           0.949267       0.862458  0.970722  0.921795\n",
       "5       Gradient Boost           0.881248       0.852311  0.934112  0.918176\n",
       "4             AdaBoost           0.877490       0.850056  0.931224  0.915769\n",
       "0  Logistic Regression           0.862834       0.845547  0.924633  0.914960\n",
       "1          K-Neighbors           0.888388       0.842165  0.937063  0.911839\n",
       "8          Naive Bayes           0.853814       0.839910  0.920107  0.912237\n",
       "2        Decision Tree           1.000000       0.832018  1.000000  0.902038"
      ]
     },
     "execution_count": 276,
     "metadata": {},
     "output_type": "execute_result"
    }
   ],
   "source": [
    "modelDF = ModelCompare(algos,X_train,y_train,X_test,y_test)\n",
    "modelDF.sort_values('Test Accuracy',0,False)"
   ]
  },
  {
   "cell_type": "markdown",
   "metadata": {},
   "source": [
    "### Iteration 2"
   ]
  },
  {
   "cell_type": "markdown",
   "metadata": {},
   "source": [
    "Finding common words between positive and negative emotions."
   ]
  },
  {
   "cell_type": "code",
   "execution_count": 277,
   "metadata": {},
   "outputs": [],
   "source": [
    "allWords = lemPositive + lemNegative\n",
    "commonWords = [word for word in allWords if (word not in positiveWords) and (word not in negativeWords)]"
   ]
  },
  {
   "cell_type": "markdown",
   "metadata": {},
   "source": [
    "Cleaning tweets and removing common words. Making positive = 1 and negative = 0."
   ]
  },
  {
   "cell_type": "code",
   "execution_count": 278,
   "metadata": {},
   "outputs": [],
   "source": [
    "tweetsUniqueWords = binaryData.tweet.map(lambda x: cleanTweets(x,commonWords))\n",
    "tweetsUniqueTarget = binaryData.emotion.map(lambda x: 1 if x=='positive' else 0)"
   ]
  },
  {
   "cell_type": "markdown",
   "metadata": {},
   "source": [
    "Vectorizing tweets."
   ]
  },
  {
   "cell_type": "code",
   "execution_count": 279,
   "metadata": {},
   "outputs": [],
   "source": [
    "tweetsUniqueVector = vectorizer.fit_transform(tweetsUniqueWords)"
   ]
  },
  {
   "cell_type": "code",
   "execution_count": 280,
   "metadata": {},
   "outputs": [
    {
     "data": {
      "text/plain": [
       "(3548, 4846)"
      ]
     },
     "execution_count": 280,
     "metadata": {},
     "output_type": "execute_result"
    }
   ],
   "source": [
    "tweetsUniqueVector.shape"
   ]
  },
  {
   "cell_type": "markdown",
   "metadata": {},
   "source": [
    "Splitting set into train and test set."
   ]
  },
  {
   "cell_type": "code",
   "execution_count": 281,
   "metadata": {},
   "outputs": [],
   "source": [
    "X_trainUnique, X_testUnique, y_trainUnique, y_testUnique = train_test_split(tweetsUniqueVector, tweetsUniqueTarget, random_state=0)"
   ]
  },
  {
   "cell_type": "markdown",
   "metadata": {},
   "source": [
    "Using multiple algorithms and comparing results."
   ]
  },
  {
   "cell_type": "code",
   "execution_count": 282,
   "metadata": {},
   "outputs": [
    {
     "data": {
      "text/html": [
       "<div>\n",
       "<style scoped>\n",
       "    .dataframe tbody tr th:only-of-type {\n",
       "        vertical-align: middle;\n",
       "    }\n",
       "\n",
       "    .dataframe tbody tr th {\n",
       "        vertical-align: top;\n",
       "    }\n",
       "\n",
       "    .dataframe thead th {\n",
       "        text-align: right;\n",
       "    }\n",
       "</style>\n",
       "<table border=\"1\" class=\"dataframe\">\n",
       "  <thead>\n",
       "    <tr style=\"text-align: right;\">\n",
       "      <th></th>\n",
       "      <th>Models</th>\n",
       "      <th>Training Accuracy</th>\n",
       "      <th>Test Accuracy</th>\n",
       "      <th>F1 Train</th>\n",
       "      <th>F1 Test</th>\n",
       "    </tr>\n",
       "  </thead>\n",
       "  <tbody>\n",
       "    <tr>\n",
       "      <th>3</th>\n",
       "      <td>Random Forest</td>\n",
       "      <td>0.980083</td>\n",
       "      <td>0.885006</td>\n",
       "      <td>0.988303</td>\n",
       "      <td>0.934699</td>\n",
       "    </tr>\n",
       "    <tr>\n",
       "      <th>2</th>\n",
       "      <td>Decision Tree</td>\n",
       "      <td>0.980083</td>\n",
       "      <td>0.874859</td>\n",
       "      <td>0.988287</td>\n",
       "      <td>0.928155</td>\n",
       "    </tr>\n",
       "    <tr>\n",
       "      <th>7</th>\n",
       "      <td>SVC</td>\n",
       "      <td>0.974070</td>\n",
       "      <td>0.868095</td>\n",
       "      <td>0.984832</td>\n",
       "      <td>0.926276</td>\n",
       "    </tr>\n",
       "    <tr>\n",
       "      <th>4</th>\n",
       "      <td>AdaBoost</td>\n",
       "      <td>0.882751</td>\n",
       "      <td>0.850056</td>\n",
       "      <td>0.934316</td>\n",
       "      <td>0.916088</td>\n",
       "    </tr>\n",
       "    <tr>\n",
       "      <th>8</th>\n",
       "      <td>Naive Bayes</td>\n",
       "      <td>0.891770</td>\n",
       "      <td>0.850056</td>\n",
       "      <td>0.939597</td>\n",
       "      <td>0.917237</td>\n",
       "    </tr>\n",
       "    <tr>\n",
       "      <th>5</th>\n",
       "      <td>Gradient Boost</td>\n",
       "      <td>0.871477</td>\n",
       "      <td>0.848929</td>\n",
       "      <td>0.929075</td>\n",
       "      <td>0.916563</td>\n",
       "    </tr>\n",
       "    <tr>\n",
       "      <th>6</th>\n",
       "      <td>XGBoost Classifier</td>\n",
       "      <td>0.876738</td>\n",
       "      <td>0.848929</td>\n",
       "      <td>0.931438</td>\n",
       "      <td>0.915617</td>\n",
       "    </tr>\n",
       "    <tr>\n",
       "      <th>0</th>\n",
       "      <td>Logistic Regression</td>\n",
       "      <td>0.856821</td>\n",
       "      <td>0.837655</td>\n",
       "      <td>0.921621</td>\n",
       "      <td>0.910891</td>\n",
       "    </tr>\n",
       "    <tr>\n",
       "      <th>1</th>\n",
       "      <td>K-Neighbors</td>\n",
       "      <td>0.835776</td>\n",
       "      <td>0.762120</td>\n",
       "      <td>0.903297</td>\n",
       "      <td>0.857912</td>\n",
       "    </tr>\n",
       "  </tbody>\n",
       "</table>\n",
       "</div>"
      ],
      "text/plain": [
       "                Models  Training Accuracy  Test Accuracy  F1 Train   F1 Test\n",
       "3        Random Forest           0.980083       0.885006  0.988303  0.934699\n",
       "2        Decision Tree           0.980083       0.874859  0.988287  0.928155\n",
       "7                  SVC           0.974070       0.868095  0.984832  0.926276\n",
       "4             AdaBoost           0.882751       0.850056  0.934316  0.916088\n",
       "8          Naive Bayes           0.891770       0.850056  0.939597  0.917237\n",
       "5       Gradient Boost           0.871477       0.848929  0.929075  0.916563\n",
       "6   XGBoost Classifier           0.876738       0.848929  0.931438  0.915617\n",
       "0  Logistic Regression           0.856821       0.837655  0.921621  0.910891\n",
       "1          K-Neighbors           0.835776       0.762120  0.903297  0.857912"
      ]
     },
     "execution_count": 282,
     "metadata": {},
     "output_type": "execute_result"
    }
   ],
   "source": [
    "modelDF = ModelCompare(algos,X_trainUnique,y_trainUnique,X_testUnique,y_testUnique)\n",
    "modelDF.sort_values('Test Accuracy',0,False)"
   ]
  },
  {
   "cell_type": "markdown",
   "metadata": {},
   "source": [
    "### Iteration 3"
   ]
  },
  {
   "cell_type": "markdown",
   "metadata": {},
   "source": [
    "synthetic sampling"
   ]
  },
  {
   "cell_type": "code",
   "execution_count": 283,
   "metadata": {},
   "outputs": [],
   "source": [
    "X_trainResample, y_trainResample = sm.fit_sample(X_train,y_train)"
   ]
  },
  {
   "cell_type": "markdown",
   "metadata": {},
   "source": [
    "Comparing models."
   ]
  },
  {
   "cell_type": "code",
   "execution_count": 284,
   "metadata": {},
   "outputs": [
    {
     "data": {
      "text/html": [
       "<div>\n",
       "<style scoped>\n",
       "    .dataframe tbody tr th:only-of-type {\n",
       "        vertical-align: middle;\n",
       "    }\n",
       "\n",
       "    .dataframe tbody tr th {\n",
       "        vertical-align: top;\n",
       "    }\n",
       "\n",
       "    .dataframe thead th {\n",
       "        text-align: right;\n",
       "    }\n",
       "</style>\n",
       "<table border=\"1\" class=\"dataframe\">\n",
       "  <thead>\n",
       "    <tr style=\"text-align: right;\">\n",
       "      <th></th>\n",
       "      <th>Models</th>\n",
       "      <th>Training Accuracy</th>\n",
       "      <th>Test Accuracy</th>\n",
       "      <th>F1 Train</th>\n",
       "      <th>F1 Test</th>\n",
       "    </tr>\n",
       "  </thead>\n",
       "  <tbody>\n",
       "    <tr>\n",
       "      <th>7</th>\n",
       "      <td>SVC</td>\n",
       "      <td>0.997321</td>\n",
       "      <td>0.877114</td>\n",
       "      <td>0.997321</td>\n",
       "      <td>0.930969</td>\n",
       "    </tr>\n",
       "    <tr>\n",
       "      <th>3</th>\n",
       "      <td>Random Forest</td>\n",
       "      <td>1.000000</td>\n",
       "      <td>0.872604</td>\n",
       "      <td>1.000000</td>\n",
       "      <td>0.928071</td>\n",
       "    </tr>\n",
       "    <tr>\n",
       "      <th>6</th>\n",
       "      <td>XGBoost Classifier</td>\n",
       "      <td>0.971205</td>\n",
       "      <td>0.861330</td>\n",
       "      <td>0.971975</td>\n",
       "      <td>0.921103</td>\n",
       "    </tr>\n",
       "    <tr>\n",
       "      <th>0</th>\n",
       "      <td>Logistic Regression</td>\n",
       "      <td>0.966518</td>\n",
       "      <td>0.855693</td>\n",
       "      <td>0.966186</td>\n",
       "      <td>0.912925</td>\n",
       "    </tr>\n",
       "    <tr>\n",
       "      <th>4</th>\n",
       "      <td>AdaBoost</td>\n",
       "      <td>0.866071</td>\n",
       "      <td>0.833145</td>\n",
       "      <td>0.870466</td>\n",
       "      <td>0.900538</td>\n",
       "    </tr>\n",
       "    <tr>\n",
       "      <th>5</th>\n",
       "      <td>Gradient Boost</td>\n",
       "      <td>0.909598</td>\n",
       "      <td>0.829763</td>\n",
       "      <td>0.911937</td>\n",
       "      <td>0.898861</td>\n",
       "    </tr>\n",
       "    <tr>\n",
       "      <th>8</th>\n",
       "      <td>Naive Bayes</td>\n",
       "      <td>0.957366</td>\n",
       "      <td>0.832018</td>\n",
       "      <td>0.956162</td>\n",
       "      <td>0.895292</td>\n",
       "    </tr>\n",
       "    <tr>\n",
       "      <th>2</th>\n",
       "      <td>Decision Tree</td>\n",
       "      <td>1.000000</td>\n",
       "      <td>0.819617</td>\n",
       "      <td>1.000000</td>\n",
       "      <td>0.892473</td>\n",
       "    </tr>\n",
       "    <tr>\n",
       "      <th>1</th>\n",
       "      <td>K-Neighbors</td>\n",
       "      <td>0.677679</td>\n",
       "      <td>0.379932</td>\n",
       "      <td>0.524374</td>\n",
       "      <td>0.413646</td>\n",
       "    </tr>\n",
       "  </tbody>\n",
       "</table>\n",
       "</div>"
      ],
      "text/plain": [
       "                Models  Training Accuracy  Test Accuracy  F1 Train   F1 Test\n",
       "7                  SVC           0.997321       0.877114  0.997321  0.930969\n",
       "3        Random Forest           1.000000       0.872604  1.000000  0.928071\n",
       "6   XGBoost Classifier           0.971205       0.861330  0.971975  0.921103\n",
       "0  Logistic Regression           0.966518       0.855693  0.966186  0.912925\n",
       "4             AdaBoost           0.866071       0.833145  0.870466  0.900538\n",
       "5       Gradient Boost           0.909598       0.829763  0.911937  0.898861\n",
       "8          Naive Bayes           0.957366       0.832018  0.956162  0.895292\n",
       "2        Decision Tree           1.000000       0.819617  1.000000  0.892473\n",
       "1          K-Neighbors           0.677679       0.379932  0.524374  0.413646"
      ]
     },
     "execution_count": 284,
     "metadata": {},
     "output_type": "execute_result"
    }
   ],
   "source": [
    "modelDF = ModelCompare(algos,X_trainResample,y_trainResample,X_test,y_test)\n",
    "modelDF.sort_values('F1 Test',0,False)"
   ]
  },
  {
   "cell_type": "markdown",
   "metadata": {},
   "source": [
    "Synthetic sampling binary unique data set."
   ]
  },
  {
   "cell_type": "code",
   "execution_count": 285,
   "metadata": {},
   "outputs": [],
   "source": [
    "X_trainUniqueResample, y_trainUniqueResample = sm.fit_sample(X_trainUnique,y_trainUnique)"
   ]
  },
  {
   "cell_type": "markdown",
   "metadata": {},
   "source": [
    "Comparing models."
   ]
  },
  {
   "cell_type": "code",
   "execution_count": 286,
   "metadata": {},
   "outputs": [
    {
     "data": {
      "text/html": [
       "<div>\n",
       "<style scoped>\n",
       "    .dataframe tbody tr th:only-of-type {\n",
       "        vertical-align: middle;\n",
       "    }\n",
       "\n",
       "    .dataframe tbody tr th {\n",
       "        vertical-align: top;\n",
       "    }\n",
       "\n",
       "    .dataframe thead th {\n",
       "        text-align: right;\n",
       "    }\n",
       "</style>\n",
       "<table border=\"1\" class=\"dataframe\">\n",
       "  <thead>\n",
       "    <tr style=\"text-align: right;\">\n",
       "      <th></th>\n",
       "      <th>Models</th>\n",
       "      <th>Training Accuracy</th>\n",
       "      <th>Test Accuracy</th>\n",
       "      <th>F1 Train</th>\n",
       "      <th>F1 Test</th>\n",
       "    </tr>\n",
       "  </thead>\n",
       "  <tbody>\n",
       "    <tr>\n",
       "      <th>6</th>\n",
       "      <td>XGBoost Classifier</td>\n",
       "      <td>0.886830</td>\n",
       "      <td>0.843292</td>\n",
       "      <td>0.896170</td>\n",
       "      <td>0.909564</td>\n",
       "    </tr>\n",
       "    <tr>\n",
       "      <th>5</th>\n",
       "      <td>Gradient Boost</td>\n",
       "      <td>0.764286</td>\n",
       "      <td>0.835400</td>\n",
       "      <td>0.805310</td>\n",
       "      <td>0.906049</td>\n",
       "    </tr>\n",
       "    <tr>\n",
       "      <th>4</th>\n",
       "      <td>AdaBoost</td>\n",
       "      <td>0.689063</td>\n",
       "      <td>0.829763</td>\n",
       "      <td>0.757613</td>\n",
       "      <td>0.903391</td>\n",
       "    </tr>\n",
       "    <tr>\n",
       "      <th>7</th>\n",
       "      <td>SVC</td>\n",
       "      <td>0.961830</td>\n",
       "      <td>0.809470</td>\n",
       "      <td>0.960462</td>\n",
       "      <td>0.887408</td>\n",
       "    </tr>\n",
       "    <tr>\n",
       "      <th>0</th>\n",
       "      <td>Logistic Regression</td>\n",
       "      <td>0.954241</td>\n",
       "      <td>0.773393</td>\n",
       "      <td>0.952314</td>\n",
       "      <td>0.847380</td>\n",
       "    </tr>\n",
       "    <tr>\n",
       "      <th>8</th>\n",
       "      <td>Naive Bayes</td>\n",
       "      <td>0.951562</td>\n",
       "      <td>0.760992</td>\n",
       "      <td>0.949405</td>\n",
       "      <td>0.836420</td>\n",
       "    </tr>\n",
       "    <tr>\n",
       "      <th>3</th>\n",
       "      <td>Random Forest</td>\n",
       "      <td>0.962946</td>\n",
       "      <td>0.706877</td>\n",
       "      <td>0.961592</td>\n",
       "      <td>0.794953</td>\n",
       "    </tr>\n",
       "    <tr>\n",
       "      <th>2</th>\n",
       "      <td>Decision Tree</td>\n",
       "      <td>0.962946</td>\n",
       "      <td>0.666291</td>\n",
       "      <td>0.961574</td>\n",
       "      <td>0.758564</td>\n",
       "    </tr>\n",
       "    <tr>\n",
       "      <th>1</th>\n",
       "      <td>K-Neighbors</td>\n",
       "      <td>0.711830</td>\n",
       "      <td>0.378805</td>\n",
       "      <td>0.597443</td>\n",
       "      <td>0.410695</td>\n",
       "    </tr>\n",
       "  </tbody>\n",
       "</table>\n",
       "</div>"
      ],
      "text/plain": [
       "                Models  Training Accuracy  Test Accuracy  F1 Train   F1 Test\n",
       "6   XGBoost Classifier           0.886830       0.843292  0.896170  0.909564\n",
       "5       Gradient Boost           0.764286       0.835400  0.805310  0.906049\n",
       "4             AdaBoost           0.689063       0.829763  0.757613  0.903391\n",
       "7                  SVC           0.961830       0.809470  0.960462  0.887408\n",
       "0  Logistic Regression           0.954241       0.773393  0.952314  0.847380\n",
       "8          Naive Bayes           0.951562       0.760992  0.949405  0.836420\n",
       "3        Random Forest           0.962946       0.706877  0.961592  0.794953\n",
       "2        Decision Tree           0.962946       0.666291  0.961574  0.758564\n",
       "1          K-Neighbors           0.711830       0.378805  0.597443  0.410695"
      ]
     },
     "execution_count": 286,
     "metadata": {},
     "output_type": "execute_result"
    }
   ],
   "source": [
    "modelDF = ModelCompare(algos,X_trainUniqueResample,y_trainUniqueResample,X_testUnique,y_testUnique)\n",
    "modelDF.sort_values('F1 Test',0,False)"
   ]
  },
  {
   "cell_type": "markdown",
   "metadata": {},
   "source": [
    "## Iteration 4"
   ]
  },
  {
   "cell_type": "markdown",
   "metadata": {},
   "source": [
    "Using Grid Search on best performing algorithm "
   ]
  },
  {
   "cell_type": "code",
   "execution_count": 287,
   "metadata": {},
   "outputs": [],
   "source": [
    "rf = RandomForestClassifier()"
   ]
  },
  {
   "cell_type": "markdown",
   "metadata": {},
   "source": [
    "Fitting, testing, and benchmarking algorithm without any adjustmenets."
   ]
  },
  {
   "cell_type": "markdown",
   "metadata": {},
   "source": [
    "modelRF = rf.fit(X_trainUnique,y_trainUnique)\n",
    "resultsRF = modelRF.predict(X_testUnique)\n",
    "print('Random Forest')\n",
    "print(confusion_matrix(y_testUnique,resultsRF))\n",
    "print(classification_report(y_testUnique,resultsRF))"
   ]
  },
  {
   "cell_type": "markdown",
   "metadata": {},
   "source": [
    "Performing Grid Search. Using Google Colab to run search due performance advantages."
   ]
  },
  {
   "cell_type": "code",
   "execution_count": 288,
   "metadata": {},
   "outputs": [
    {
     "data": {
      "text/plain": [
       "\"rfParams = {'n_estimators':[90,95,100,105,110],'criterion':['gini','entropy'],\\n            'min_samples_split':[2,3,4,5],'min_samples_leaf':[1,2,3,4,5],\\n            'min_weight_fraction_leaf':[0,.1,.2,.3,.4,.5],\\n            'max_features':['auto', 'sqrt', 'log2'],'bootstrap':[True,False]}\\n\\ngridRF = grid(rf,rfParams,scoring='accuracy',n_jobs=-1)\\n\\ngridRF.fit(X_trainUnique,y_trainUnique)\\n\\ngridRF.best_params_\\n\\noutput:\\n{bootstrap:'False'\\ncriterion:'entropy'\\nmax_features:'log2'\\nmin_sample_leaf:1\\nmin_sample_split:2\\nmin_weight_fraction_leaf:0\\nn_estimators:100\\n}\\n\\n\""
      ]
     },
     "execution_count": 288,
     "metadata": {},
     "output_type": "execute_result"
    }
   ],
   "source": [
    "'''rfParams = {'n_estimators':[90,95,100,105,110],'criterion':['gini','entropy'],\n",
    "            'min_samples_split':[2,3,4,5],'min_samples_leaf':[1,2,3,4,5],\n",
    "            'min_weight_fraction_leaf':[0,.1,.2,.3,.4,.5],\n",
    "            'max_features':['auto', 'sqrt', 'log2'],'bootstrap':[True,False]}\n",
    "\n",
    "gridRF = grid(rf,rfParams,scoring='accuracy',n_jobs=-1)\n",
    "\n",
    "gridRF.fit(X_trainUnique,y_trainUnique)\n",
    "\n",
    "gridRF.best_params_\n",
    "\n",
    "output:\n",
    "{bootstrap:'False'\n",
    "criterion:'entropy'\n",
    "max_features:'log2'\n",
    "min_sample_leaf:1\n",
    "min_sample_split:2\n",
    "min_weight_fraction_leaf:0\n",
    "n_estimators:100\n",
    "}\n",
    "\n",
    "'''"
   ]
  },
  {
   "cell_type": "markdown",
   "metadata": {},
   "source": [
    "Using Grid Search results to adjust algorithm, test, and benchmark."
   ]
  },
  {
   "cell_type": "code",
   "execution_count": 289,
   "metadata": {},
   "outputs": [
    {
     "name": "stdout",
     "output_type": "stream",
     "text": [
      "Random Forest Tuned\n",
      "[[ 60  89]\n",
      " [  9 729]]\n",
      "              precision    recall  f1-score   support\n",
      "\n",
      "           0       0.87      0.40      0.55       149\n",
      "           1       0.89      0.99      0.94       738\n",
      "\n",
      "    accuracy                           0.89       887\n",
      "   macro avg       0.88      0.70      0.74       887\n",
      "weighted avg       0.89      0.89      0.87       887\n",
      "\n",
      "0.9370179948586119\n"
     ]
    }
   ],
   "source": [
    "tunedRF = RandomForestClassifier(criterion='entropy',max_features='log2',bootstrap=False)\n",
    "tunedRF.fit(X_trainUnique,y_trainUnique)\n",
    "resultsTunedRF = tunedRF.predict(X_testUnique)\n",
    "print('Random Forest Tuned')\n",
    "print(confusion_matrix(y_testUnique,resultsTunedRF))\n",
    "print(classification_report(y_testUnique,resultsTunedRF))\n",
    "print(f1_score(y_testUnique,resultsTunedRF))"
   ]
  },
  {
   "cell_type": "code",
   "execution_count": 290,
   "metadata": {},
   "outputs": [
    {
     "data": {
      "text/plain": [
       "<matplotlib.axes._subplots.AxesSubplot at 0x7fb4938a5d10>"
      ]
     },
     "execution_count": 290,
     "metadata": {},
     "output_type": "execute_result"
    },
    {
     "data": {
      "image/png": "[encoded data removed]",
      "text/plain": [
       "<Figure size 432x288 with 2 Axes>"
      ]
     },
     "metadata": {
      "needs_background": "light"
     },
     "output_type": "display_data"
    }
   ],
   "source": [
    "sns.heatmap(confusion_matrix(y_testUnique,resultsTunedRF),annot=True)"
   ]
  },
  {
   "cell_type": "markdown",
   "metadata": {},
   "source": [
    "### Iteration 1 (Ternary Model)"
   ]
  },
  {
   "cell_type": "markdown",
   "metadata": {},
   "source": [
    "Cleaning tweets and turning neutral = 2, positive = 1, and negative = 0."
   ]
  },
  {
   "cell_type": "code",
   "execution_count": 291,
   "metadata": {},
   "outputs": [],
   "source": [
    "allDataTweet = data.tweet.map(cleanTweets)\n",
    "allDataTarget = data.emotion.map(lambda x: 2 if x=='neutral' else 1 if x=='positive' else 0)"
   ]
  },
  {
   "cell_type": "markdown",
   "metadata": {},
   "source": [
    "Vectorizing tweets."
   ]
  },
  {
   "cell_type": "code",
   "execution_count": 292,
   "metadata": {},
   "outputs": [],
   "source": [
    "allDataVector = vectorizer.fit_transform(allDataTweet)"
   ]
  },
  {
   "cell_type": "code",
   "execution_count": 293,
   "metadata": {},
   "outputs": [
    {
     "data": {
      "text/plain": [
       "(8936, 8945)"
      ]
     },
     "execution_count": 293,
     "metadata": {},
     "output_type": "execute_result"
    }
   ],
   "source": [
    "allDataVector.shape"
   ]
  },
  {
   "cell_type": "markdown",
   "metadata": {},
   "source": [
    "Splitting data set into train and test set."
   ]
  },
  {
   "cell_type": "code",
   "execution_count": 294,
   "metadata": {},
   "outputs": [],
   "source": [
    "X_trainMulti, X_testMulti, y_trainMulti, y_testMulti = train_test_split(allDataVector, allDataTarget, random_state=0)"
   ]
  },
  {
   "cell_type": "markdown",
   "metadata": {},
   "source": [
    "Using multiple algorithms and optimzing them for ternary models."
   ]
  },
  {
   "cell_type": "code",
   "execution_count": 295,
   "metadata": {},
   "outputs": [],
   "source": [
    "multiClassAlgos = {'Random Forest':RandomForestClassifier(),'K-Neighbors':KNeighborsClassifier(),\n",
    "                  'Logistic Regression': LogisticRegression(max_iter=200,multi_class='multinomial'),'SVC':OneVsOneClassifier(SVC()),\n",
    "                   'Gradient Boost':OneVsRestClassifier(GradientBoostingClassifier()),'Decision Tree':DecisionTreeClassifier(),\n",
    "                  'XGBoost Classifier':xgbc(),'Naive Bayes':MultinomialNB()}"
   ]
  },
  {
   "cell_type": "markdown",
   "metadata": {},
   "source": [
    "Comparing models by accuracy and confusion matrices.  "
   ]
  },
  {
   "cell_type": "code",
   "execution_count": 296,
   "metadata": {
    "scrolled": false
   },
   "outputs": [
    {
     "name": "stdout",
     "output_type": "stream",
     "text": [
      "Random Forest\n",
      "Training Accuracy: 0.994330050731125\n",
      "[[  22   12  118]\n",
      " [   1  284  451]\n",
      " [  10  114 1222]]\n",
      "              precision    recall  f1-score   support\n",
      "\n",
      "           0       0.67      0.14      0.24       152\n",
      "           1       0.69      0.39      0.50       736\n",
      "           2       0.68      0.91      0.78      1346\n",
      "\n",
      "    accuracy                           0.68      2234\n",
      "   macro avg       0.68      0.48      0.50      2234\n",
      "weighted avg       0.68      0.68      0.65      2234\n",
      "\n",
      "K-Neighbors\n",
      "Training Accuracy: 0.7572366457773799\n",
      "[[  29   38   85]\n",
      " [  15  287  434]\n",
      " [  32  223 1091]]\n",
      "              precision    recall  f1-score   support\n",
      "\n",
      "           0       0.38      0.19      0.25       152\n",
      "           1       0.52      0.39      0.45       736\n",
      "           2       0.68      0.81      0.74      1346\n",
      "\n",
      "    accuracy                           0.63      2234\n",
      "   macro avg       0.53      0.46      0.48      2234\n",
      "weighted avg       0.61      0.63      0.61      2234\n",
      "\n",
      "Logistic Regression\n",
      "Training Accuracy: 0.8093106535362579\n",
      "[[  12   19  121]\n",
      " [   0  348  388]\n",
      " [   1  150 1195]]\n",
      "              precision    recall  f1-score   support\n",
      "\n",
      "           0       0.92      0.08      0.15       152\n",
      "           1       0.67      0.47      0.56       736\n",
      "           2       0.70      0.89      0.78      1346\n",
      "\n",
      "    accuracy                           0.70      2234\n",
      "   macro avg       0.77      0.48      0.49      2234\n",
      "weighted avg       0.71      0.70      0.67      2234\n",
      "\n",
      "SVC\n",
      "Training Accuracy: 0.9031632348552671\n",
      "[[  17    9  126]\n",
      " [   0  309  427]\n",
      " [   5  120 1221]]\n",
      "              precision    recall  f1-score   support\n",
      "\n",
      "           0       0.77      0.11      0.20       152\n",
      "           1       0.71      0.42      0.53       736\n",
      "           2       0.69      0.91      0.78      1346\n",
      "\n",
      "    accuracy                           0.69      2234\n",
      "   macro avg       0.72      0.48      0.50      2234\n",
      "weighted avg       0.70      0.69      0.66      2234\n",
      "\n",
      "Gradient Boost\n",
      "Training Accuracy: 0.7072515666965085\n",
      "[[  12   11  129]\n",
      " [   4  195  537]\n",
      " [   3   53 1290]]\n",
      "              precision    recall  f1-score   support\n",
      "\n",
      "           0       0.63      0.08      0.14       152\n",
      "           1       0.75      0.26      0.39       736\n",
      "           2       0.66      0.96      0.78      1346\n",
      "\n",
      "    accuracy                           0.67      2234\n",
      "   macro avg       0.68      0.43      0.44      2234\n",
      "weighted avg       0.69      0.67      0.61      2234\n",
      "\n",
      "Decision Tree\n",
      "Training Accuracy: 0.994330050731125\n",
      "[[ 36  45  71]\n",
      " [ 35 364 337]\n",
      " [ 60 300 986]]\n",
      "              precision    recall  f1-score   support\n",
      "\n",
      "           0       0.27      0.24      0.25       152\n",
      "           1       0.51      0.49      0.50       736\n",
      "           2       0.71      0.73      0.72      1346\n",
      "\n",
      "    accuracy                           0.62      2234\n",
      "   macro avg       0.50      0.49      0.49      2234\n",
      "weighted avg       0.61      0.62      0.62      2234\n",
      "\n",
      "XGBoost Classifier\n",
      "Training Accuracy: 0.8555655028349747\n",
      "[[  20   25  107]\n",
      " [   3  314  419]\n",
      " [  14  155 1177]]\n",
      "              precision    recall  f1-score   support\n",
      "\n",
      "           0       0.54      0.13      0.21       152\n",
      "           1       0.64      0.43      0.51       736\n",
      "           2       0.69      0.87      0.77      1346\n",
      "\n",
      "    accuracy                           0.68      2234\n",
      "   macro avg       0.62      0.48      0.50      2234\n",
      "weighted avg       0.66      0.68      0.65      2234\n",
      "\n",
      "Naive Bayes\n",
      "Training Accuracy: 0.7433601909877648\n",
      "[[   1   10  141]\n",
      " [   0  178  558]\n",
      " [   0   71 1275]]\n",
      "              precision    recall  f1-score   support\n",
      "\n",
      "           0       1.00      0.01      0.01       152\n",
      "           1       0.69      0.24      0.36       736\n",
      "           2       0.65      0.95      0.77      1346\n",
      "\n",
      "    accuracy                           0.65      2234\n",
      "   macro avg       0.78      0.40      0.38      2234\n",
      "weighted avg       0.68      0.65      0.58      2234\n",
      "\n"
     ]
    }
   ],
   "source": [
    "ModelCompareMulti(multiClassAlgos,X_trainMulti,y_trainMulti,X_testMulti,y_testMulti,labels=[0,1,2])"
   ]
  },
  {
   "cell_type": "markdown",
   "metadata": {},
   "source": [
    "### Iteration 2"
   ]
  },
  {
   "cell_type": "markdown",
   "metadata": {},
   "source": [
    "Getting all unique positive, negative, and neutral words."
   ]
  },
  {
   "cell_type": "code",
   "execution_count": 297,
   "metadata": {},
   "outputs": [],
   "source": [
    "allPositiveWords = [word for word in lemPositive if (word not in lemNegative) & (word not in lemNeutral)]\n",
    "allNegativeWords = [word for word in lemNegative if (word not in lemPositive) & (word not in lemNeutral)]\n",
    "allNeutralWords = [word for word in lemNeutral if (word not in lemNegative) & (word not in lemPositive)]"
   ]
  },
  {
   "cell_type": "markdown",
   "metadata": {},
   "source": [
    "Checking frequency of words."
   ]
  },
  {
   "cell_type": "code",
   "execution_count": 298,
   "metadata": {},
   "outputs": [],
   "source": [
    "freqAllPositive = FreqDist(allPositiveWords)\n",
    "freqAllNegative = FreqDist(allNegativeWords)\n",
    "freqAllNeutral = FreqDist(allNeutralWords)"
   ]
  },
  {
   "cell_type": "markdown",
   "metadata": {},
   "source": [
    "Ordering frequency dictionaries by values."
   ]
  },
  {
   "cell_type": "code",
   "execution_count": 299,
   "metadata": {},
   "outputs": [],
   "source": [
    "orderedAllPositiveWords = {k: v for k, v in sorted(freqAllPositive.items(), key=lambda item: item[1],reverse= True)}\n",
    "orderedAllNegativeWords = {k: v for k, v in sorted(freqAllNegative.items(), key=lambda item: item[1],reverse= True)}\n",
    "orderedAllNeutralWzords = {k: v for k, v in sorted(freqAllNeutral.items(), key=lambda item: item[1],reverse= True)}"
   ]
  },
  {
   "cell_type": "markdown",
   "metadata": {},
   "source": [
    "Visualizing dictionaries."
   ]
  },
  {
   "cell_type": "code",
   "execution_count": 300,
   "metadata": {
    "scrolled": false
   },
   "outputs": [
    {
     "data": {
      "image/png": "[encoded data removed]",
      "text/plain": [
       "<Figure size 2088x720 with 4 Axes>"
      ]
     },
     "metadata": {},
     "output_type": "display_data"
    }
   ],
   "source": [
    "with plt.style.context('ggplot'):\n",
    "    fig, ax = plt.subplots(nrows=2, ncols=2,figsize=(29,10))\n",
    "    orderedData = [orderedAllPositiveWords,orderedAllNegativeWords,orderedAllNeutralWords]\n",
    "    titles = ['Positive','Negative','Neutral']\n",
    "    i = 0\n",
    "    for row in ax:\n",
    "        for col in row:\n",
    "            x = list(orderedData[i].keys())[:10]\n",
    "            y = list(orderedData[i].values())[:10]\n",
    "            sns.barplot(x,y,ax=col)\n",
    "            col.set_title(titles[i])\n",
    "            col.set_ylabel('Frequency')\n",
    "            i += 1\n",
    "            if i == 3:\n",
    "                break\n",
    "        if i == 3:\n",
    "            break"
   ]
  },
  {
   "cell_type": "markdown",
   "metadata": {},
   "source": [
    "Finding common words from positive, negative, and neutral."
   ]
  },
  {
   "cell_type": "code",
   "execution_count": 192,
   "metadata": {},
   "outputs": [],
   "source": [
    "allWordsDataset = lemPositive + lemNegative + lemNeutral\n",
    "commonWordsDataset = [word for word in allWordsDataset if (word not in allPositiveWords) and (word not in allNegativeWords) and (word not in allNeutralWords)]"
   ]
  },
  {
   "cell_type": "markdown",
   "metadata": {},
   "source": [
    "Cleaning tweets and removing common words. Turning neutral = 2, positive = 1, and negative = 0."
   ]
  },
  {
   "cell_type": "code",
   "execution_count": 193,
   "metadata": {},
   "outputs": [],
   "source": [
    "allDataTweetUnique = data.tweet.map(lambda x: cleanTweets(x,commonWordsDataset))\n",
    "allDataTargetUnique = data.emotion.map(lambda x: 2 if x=='neutral' else 1 if x=='positive' else 0)"
   ]
  },
  {
   "cell_type": "markdown",
   "metadata": {},
   "source": [
    "Vectorizing tweets."
   ]
  },
  {
   "cell_type": "code",
   "execution_count": 194,
   "metadata": {},
   "outputs": [],
   "source": [
    "allDataVectorUnique = vectorizer.fit_transform(allDataTweetUnique)"
   ]
  },
  {
   "cell_type": "code",
   "execution_count": 195,
   "metadata": {},
   "outputs": [
    {
     "data": {
      "text/plain": [
       "(8936, 6621)"
      ]
     },
     "execution_count": 195,
     "metadata": {},
     "output_type": "execute_result"
    }
   ],
   "source": [
    "allDataVectorUnique.shape"
   ]
  },
  {
   "cell_type": "markdown",
   "metadata": {},
   "source": [
    "Splitting set into test and train set."
   ]
  },
  {
   "cell_type": "code",
   "execution_count": 196,
   "metadata": {},
   "outputs": [],
   "source": [
    "X_trainMultiUnique, X_testMultiUnique, y_trainMultiUnique, y_testMultiUnique = train_test_split(allDataVectorUnique, \n",
    "                                                                                                allDataTargetUnique, random_state=0)"
   ]
  },
  {
   "cell_type": "markdown",
   "metadata": {},
   "source": [
    "Compaing algorithms by accuracy and confusion matrices."
   ]
  },
  {
   "cell_type": "code",
   "execution_count": 197,
   "metadata": {
    "scrolled": false
   },
   "outputs": [
    {
     "name": "stdout",
     "output_type": "stream",
     "text": [
      "Random Forest\n",
      "Training Accuracy: 0.848552670844524\n",
      "[[  33   15  104]\n",
      " [   6  230  500]\n",
      " [  12   92 1242]]\n",
      "              precision    recall  f1-score   support\n",
      "\n",
      "           0       0.65      0.22      0.33       152\n",
      "           1       0.68      0.31      0.43       736\n",
      "           2       0.67      0.92      0.78      1346\n",
      "\n",
      "    accuracy                           0.67      2234\n",
      "   macro avg       0.67      0.48      0.51      2234\n",
      "weighted avg       0.67      0.67      0.63      2234\n",
      "\n",
      "K-Neighbors\n",
      "Training Accuracy: 0.6575649059982095\n",
      "[[ 24  84  44]\n",
      " [ 10 505 221]\n",
      " [ 16 647 683]]\n",
      "              precision    recall  f1-score   support\n",
      "\n",
      "           0       0.48      0.16      0.24       152\n",
      "           1       0.41      0.69      0.51       736\n",
      "           2       0.72      0.51      0.60      1346\n",
      "\n",
      "    accuracy                           0.54      2234\n",
      "   macro avg       0.54      0.45      0.45      2234\n",
      "weighted avg       0.60      0.54      0.54      2234\n",
      "\n",
      "Logistic Regression\n",
      "Training Accuracy: 0.7845419277827514\n",
      "[[   3   15  134]\n",
      " [   0  201  535]\n",
      " [   1   73 1272]]\n",
      "              precision    recall  f1-score   support\n",
      "\n",
      "           0       0.75      0.02      0.04       152\n",
      "           1       0.70      0.27      0.39       736\n",
      "           2       0.66      0.95      0.77      1346\n",
      "\n",
      "    accuracy                           0.66      2234\n",
      "   macro avg       0.70      0.41      0.40      2234\n",
      "weighted avg       0.68      0.66      0.60      2234\n",
      "\n",
      "SVC\n",
      "Training Accuracy: 0.8360190987764846\n",
      "[[  18    8  126]\n",
      " [   2  191  543]\n",
      " [   4   58 1284]]\n",
      "              precision    recall  f1-score   support\n",
      "\n",
      "           0       0.75      0.12      0.20       152\n",
      "           1       0.74      0.26      0.38       736\n",
      "           2       0.66      0.95      0.78      1346\n",
      "\n",
      "    accuracy                           0.67      2234\n",
      "   macro avg       0.72      0.44      0.46      2234\n",
      "weighted avg       0.69      0.67      0.61      2234\n",
      "\n",
      "Gradient Boost\n",
      "Training Accuracy: 0.6468218442256043\n",
      "[[   8    4  140]\n",
      " [   4   74  658]\n",
      " [   2   20 1324]]\n",
      "              precision    recall  f1-score   support\n",
      "\n",
      "           0       0.57      0.05      0.10       152\n",
      "           1       0.76      0.10      0.18       736\n",
      "           2       0.62      0.98      0.76      1346\n",
      "\n",
      "    accuracy                           0.63      2234\n",
      "   macro avg       0.65      0.38      0.35      2234\n",
      "weighted avg       0.66      0.63      0.53      2234\n",
      "\n",
      "Decision Tree\n",
      "Training Accuracy: 0.848552670844524\n",
      "[[  36   16  100]\n",
      " [  10  242  484]\n",
      " [  19  120 1207]]\n",
      "              precision    recall  f1-score   support\n",
      "\n",
      "           0       0.55      0.24      0.33       152\n",
      "           1       0.64      0.33      0.43       736\n",
      "           2       0.67      0.90      0.77      1346\n",
      "\n",
      "    accuracy                           0.66      2234\n",
      "   macro avg       0.62      0.49      0.51      2234\n",
      "weighted avg       0.65      0.66      0.63      2234\n",
      "\n",
      "XGBoost Classifier\n",
      "Training Accuracy: 0.6891972545508803\n",
      "[[  10    8  134]\n",
      " [   6  120  610]\n",
      " [   5   45 1296]]\n",
      "              precision    recall  f1-score   support\n",
      "\n",
      "           0       0.48      0.07      0.12       152\n",
      "           1       0.69      0.16      0.26       736\n",
      "           2       0.64      0.96      0.77      1346\n",
      "\n",
      "    accuracy                           0.64      2234\n",
      "   macro avg       0.60      0.40      0.38      2234\n",
      "weighted avg       0.64      0.64      0.56      2234\n",
      "\n",
      "Naive Bayes\n",
      "Training Accuracy: 0.7673828707848404\n",
      "[[   1   10  141]\n",
      " [   0  198  538]\n",
      " [   1   45 1300]]\n",
      "              precision    recall  f1-score   support\n",
      "\n",
      "           0       0.50      0.01      0.01       152\n",
      "           1       0.78      0.27      0.40       736\n",
      "           2       0.66      0.97      0.78      1346\n",
      "\n",
      "    accuracy                           0.67      2234\n",
      "   macro avg       0.65      0.41      0.40      2234\n",
      "weighted avg       0.69      0.67      0.60      2234\n",
      "\n"
     ]
    }
   ],
   "source": [
    "ModelCompareMulti(multiClassAlgos,X_trainMultiUnique,y_trainMultiUnique,\n",
    "                  X_testMultiUnique,y_testMultiUnique,labels=[0,1,2])"
   ]
  },
  {
   "cell_type": "markdown",
   "metadata": {},
   "source": [
    "### Iteration 3"
   ]
  },
  {
   "cell_type": "markdown",
   "metadata": {},
   "source": [
    "Synthetic sampling ternary model data. "
   ]
  },
  {
   "cell_type": "code",
   "execution_count": 94,
   "metadata": {},
   "outputs": [],
   "source": [
    "X_trainMultiResample, y_trainMultiResample = sm.fit_sample(X_trainMulti,y_trainMulti)"
   ]
  },
  {
   "cell_type": "markdown",
   "metadata": {},
   "source": [
    "Comparing algorithms."
   ]
  },
  {
   "cell_type": "code",
   "execution_count": 95,
   "metadata": {
    "scrolled": false
   },
   "outputs": [
    {
     "name": "stdout",
     "output_type": "stream",
     "text": [
      "Random Forest\n",
      "Training Accuracy: 0.9967837704106878\n",
      "[[  31   25   96]\n",
      " [   4  346  386]\n",
      " [  15  187 1144]]\n",
      "              precision    recall  f1-score   support\n",
      "\n",
      "           0       0.62      0.20      0.31       152\n",
      "           1       0.62      0.47      0.53       736\n",
      "           2       0.70      0.85      0.77      1346\n",
      "\n",
      "    accuracy                           0.68      2234\n",
      "   macro avg       0.65      0.51      0.54      2234\n",
      "weighted avg       0.67      0.68      0.66      2234\n",
      "\n",
      "K-Neighbors\n",
      "Training Accuracy: 0.7642256308758041\n",
      "[[121  26   5]\n",
      " [224 441  71]\n",
      " [474 492 380]]\n",
      "              precision    recall  f1-score   support\n",
      "\n",
      "           0       0.15      0.80      0.25       152\n",
      "           1       0.46      0.60      0.52       736\n",
      "           2       0.83      0.28      0.42      1346\n",
      "\n",
      "    accuracy                           0.42      2234\n",
      "   macro avg       0.48      0.56      0.40      2234\n",
      "weighted avg       0.66      0.42      0.44      2234\n",
      "\n",
      "Logistic Regression\n",
      "Training Accuracy: 0.8984001319478806\n",
      "[[ 79  19  54]\n",
      " [ 49 428 259]\n",
      " [103 303 940]]\n",
      "              precision    recall  f1-score   support\n",
      "\n",
      "           0       0.34      0.52      0.41       152\n",
      "           1       0.57      0.58      0.58       736\n",
      "           2       0.75      0.70      0.72      1346\n",
      "\n",
      "    accuracy                           0.65      2234\n",
      "   macro avg       0.55      0.60      0.57      2234\n",
      "weighted avg       0.66      0.65      0.65      2234\n",
      "\n",
      "SVC\n",
      "Training Accuracy: 0.9621474517565561\n",
      "[[  29    8  115]\n",
      " [   2  339  395]\n",
      " [  20  155 1171]]\n",
      "              precision    recall  f1-score   support\n",
      "\n",
      "           0       0.57      0.19      0.29       152\n",
      "           1       0.68      0.46      0.55       736\n",
      "           2       0.70      0.87      0.77      1346\n",
      "\n",
      "    accuracy                           0.69      2234\n",
      "   macro avg       0.65      0.51      0.54      2234\n",
      "weighted avg       0.68      0.69      0.67      2234\n",
      "\n",
      "Gradient Boost\n",
      "Training Accuracy: 0.7870691077024575\n",
      "[[  66   16   70]\n",
      " [  44  326  366]\n",
      " [ 101  211 1034]]\n",
      "              precision    recall  f1-score   support\n",
      "\n",
      "           0       0.31      0.43      0.36       152\n",
      "           1       0.59      0.44      0.51       736\n",
      "           2       0.70      0.77      0.73      1346\n",
      "\n",
      "    accuracy                           0.64      2234\n",
      "   macro avg       0.54      0.55      0.53      2234\n",
      "weighted avg       0.64      0.64      0.63      2234\n",
      "\n",
      "Decision Tree\n",
      "Training Accuracy: 0.9967837704106878\n",
      "[[ 33  43  76]\n",
      " [ 31 360 345]\n",
      " [ 59 341 946]]\n",
      "              precision    recall  f1-score   support\n",
      "\n",
      "           0       0.27      0.22      0.24       152\n",
      "           1       0.48      0.49      0.49       736\n",
      "           2       0.69      0.70      0.70      1346\n",
      "\n",
      "    accuracy                           0.60      2234\n",
      "   macro avg       0.48      0.47      0.47      2234\n",
      "weighted avg       0.59      0.60      0.60      2234\n",
      "\n",
      "XGBoost Classifier\n",
      "Training Accuracy: 0.9042553191489362\n",
      "[[  34   18  100]\n",
      " [   9  331  396]\n",
      " [  29  177 1140]]\n",
      "              precision    recall  f1-score   support\n",
      "\n",
      "           0       0.47      0.22      0.30       152\n",
      "           1       0.63      0.45      0.52       736\n",
      "           2       0.70      0.85      0.76      1346\n",
      "\n",
      "    accuracy                           0.67      2234\n",
      "   macro avg       0.60      0.51      0.53      2234\n",
      "weighted avg       0.66      0.67      0.65      2234\n",
      "\n",
      "Naive Bayes\n",
      "Training Accuracy: 0.8564242124360878\n",
      "[[ 93  31  28]\n",
      " [ 82 462 192]\n",
      " [161 426 759]]\n",
      "              precision    recall  f1-score   support\n",
      "\n",
      "           0       0.28      0.61      0.38       152\n",
      "           1       0.50      0.63      0.56       736\n",
      "           2       0.78      0.56      0.65      1346\n",
      "\n",
      "    accuracy                           0.59      2234\n",
      "   macro avg       0.52      0.60      0.53      2234\n",
      "weighted avg       0.65      0.59      0.60      2234\n",
      "\n"
     ]
    }
   ],
   "source": [
    "ModelCompareMulti(multiClassAlgos,X_trainMultiResample,y_trainMultiResample,X_testMulti,y_testMulti,labels=[0,1,2])"
   ]
  },
  {
   "cell_type": "markdown",
   "metadata": {},
   "source": [
    "Synthetic sampling ternary data set with unique words."
   ]
  },
  {
   "cell_type": "code",
   "execution_count": 198,
   "metadata": {},
   "outputs": [],
   "source": [
    "X_trainMultiUniqueResample, y_trainMultiUniqueResample = sm.fit_sample(X_trainMultiUnique,y_trainMultiUnique)"
   ]
  },
  {
   "cell_type": "markdown",
   "metadata": {},
   "source": [
    "Comparing models."
   ]
  },
  {
   "cell_type": "code",
   "execution_count": 199,
   "metadata": {
    "scrolled": false
   },
   "outputs": [
    {
     "name": "stdout",
     "output_type": "stream",
     "text": [
      "Random Forest\n",
      "Training Accuracy: 0.8231073725878278\n",
      "[[ 52  74  26]\n",
      " [ 33 551 152]\n",
      " [ 63 597 686]]\n",
      "              precision    recall  f1-score   support\n",
      "\n",
      "           0       0.35      0.34      0.35       152\n",
      "           1       0.45      0.75      0.56       736\n",
      "           2       0.79      0.51      0.62      1346\n",
      "\n",
      "    accuracy                           0.58      2234\n",
      "   macro avg       0.53      0.53      0.51      2234\n",
      "weighted avg       0.65      0.58      0.58      2234\n",
      "\n",
      "K-Neighbors\n",
      "Training Accuracy: 0.6848095002474023\n",
      "[[ 75  15  62]\n",
      " [111 242 383]\n",
      " [292 155 899]]\n",
      "              precision    recall  f1-score   support\n",
      "\n",
      "           0       0.16      0.49      0.24       152\n",
      "           1       0.59      0.33      0.42       736\n",
      "           2       0.67      0.67      0.67      1346\n",
      "\n",
      "    accuracy                           0.54      2234\n",
      "   macro avg       0.47      0.50      0.44      2234\n",
      "weighted avg       0.61      0.54      0.56      2234\n",
      "\n",
      "Logistic Regression\n",
      "Training Accuracy: 0.7814613227775029\n",
      "[[ 59  72  21]\n",
      " [ 38 564 134]\n",
      " [ 66 566 714]]\n",
      "              precision    recall  f1-score   support\n",
      "\n",
      "           0       0.36      0.39      0.37       152\n",
      "           1       0.47      0.77      0.58       736\n",
      "           2       0.82      0.53      0.64      1346\n",
      "\n",
      "    accuracy                           0.60      2234\n",
      "   macro avg       0.55      0.56      0.53      2234\n",
      "weighted avg       0.67      0.60      0.61      2234\n",
      "\n",
      "SVC\n",
      "Training Accuracy: 0.8107372587827808\n",
      "[[ 29  36  87]\n",
      " [  7 382 347]\n",
      " [ 20 345 981]]\n",
      "              precision    recall  f1-score   support\n",
      "\n",
      "           0       0.52      0.19      0.28       152\n",
      "           1       0.50      0.52      0.51       736\n",
      "           2       0.69      0.73      0.71      1346\n",
      "\n",
      "    accuracy                           0.62      2234\n",
      "   macro avg       0.57      0.48      0.50      2234\n",
      "weighted avg       0.62      0.62      0.62      2234\n",
      "\n",
      "Gradient Boost\n",
      "Training Accuracy: 0.5954148111495959\n",
      "[[ 35 105  12]\n",
      " [ 20 624  92]\n",
      " [ 35 953 358]]\n",
      "              precision    recall  f1-score   support\n",
      "\n",
      "           0       0.39      0.23      0.29       152\n",
      "           1       0.37      0.85      0.52       736\n",
      "           2       0.77      0.27      0.40      1346\n",
      "\n",
      "    accuracy                           0.46      2234\n",
      "   macro avg       0.51      0.45      0.40      2234\n",
      "weighted avg       0.62      0.46      0.43      2234\n",
      "\n",
      "Decision Tree\n",
      "Training Accuracy: 0.8231073725878278\n",
      "[[ 49  76  27]\n",
      " [ 19 562 155]\n",
      " [ 40 634 672]]\n",
      "              precision    recall  f1-score   support\n",
      "\n",
      "           0       0.45      0.32      0.38       152\n",
      "           1       0.44      0.76      0.56       736\n",
      "           2       0.79      0.50      0.61      1346\n",
      "\n",
      "    accuracy                           0.57      2234\n",
      "   macro avg       0.56      0.53      0.52      2234\n",
      "weighted avg       0.65      0.57      0.58      2234\n",
      "\n",
      "XGBoost Classifier\n",
      "Training Accuracy: 0.6857166419264391\n",
      "[[ 38  97  17]\n",
      " [ 22 602 112]\n",
      " [ 35 860 451]]\n",
      "              precision    recall  f1-score   support\n",
      "\n",
      "           0       0.40      0.25      0.31       152\n",
      "           1       0.39      0.82      0.52       736\n",
      "           2       0.78      0.34      0.47      1346\n",
      "\n",
      "    accuracy                           0.49      2234\n",
      "   macro avg       0.52      0.47      0.43      2234\n",
      "weighted avg       0.62      0.49      0.48      2234\n",
      "\n",
      "Naive Bayes\n",
      "Training Accuracy: 0.7469899389741053\n",
      "[[110  24  18]\n",
      " [338 294 104]\n",
      " [527 182 637]]\n",
      "              precision    recall  f1-score   support\n",
      "\n",
      "           0       0.11      0.72      0.20       152\n",
      "           1       0.59      0.40      0.48       736\n",
      "           2       0.84      0.47      0.61      1346\n",
      "\n",
      "    accuracy                           0.47      2234\n",
      "   macro avg       0.51      0.53      0.43      2234\n",
      "weighted avg       0.71      0.47      0.53      2234\n",
      "\n"
     ]
    }
   ],
   "source": [
    "ModelCompareMulti(multiClassAlgos,X_trainMultiUniqueResample,y_trainMultiUniqueResample,\n",
    "                  X_testMultiUnique,y_testMultiUnique,labels=[0,1,2])"
   ]
  },
  {
   "cell_type": "markdown",
   "metadata": {},
   "source": [
    "### Iteration 4"
   ]
  },
  {
   "cell_type": "markdown",
   "metadata": {},
   "source": [
    "Grid Search on best performing algorithm for ternary classification problem"
   ]
  },
  {
   "cell_type": "code",
   "execution_count": 301,
   "metadata": {},
   "outputs": [],
   "source": [
    "svc = OneVsOneClassifier(SVC())"
   ]
  },
  {
   "cell_type": "markdown",
   "metadata": {},
   "source": [
    "Fitting, testing, and bechmarking algorithm without adjustments."
   ]
  },
  {
   "cell_type": "code",
   "execution_count": 302,
   "metadata": {},
   "outputs": [
    {
     "name": "stdout",
     "output_type": "stream",
     "text": [
      "SVC\n",
      "[[  17    9  126]\n",
      " [   0  309  427]\n",
      " [   5  120 1221]]\n",
      "              precision    recall  f1-score   support\n",
      "\n",
      "           0       0.77      0.11      0.20       152\n",
      "           1       0.71      0.42      0.53       736\n",
      "           2       0.69      0.91      0.78      1346\n",
      "\n",
      "    accuracy                           0.69      2234\n",
      "   macro avg       0.72      0.48      0.50      2234\n",
      "weighted avg       0.70      0.69      0.66      2234\n",
      "\n"
     ]
    }
   ],
   "source": [
    "modelSVC = svc.fit(X_trainMulti,y_trainMulti)\n",
    "resultsSVC = modelSVC.predict(X_testMulti)\n",
    "print('SVC')\n",
    "print(confusion_matrix(y_testMulti,resultsSVC))\n",
    "print(classification_report(y_testMulti,resultsSVC))"
   ]
  },
  {
   "cell_type": "markdown",
   "metadata": {},
   "source": [
    "Running Grid Search on SVC. Grid Search ran on google colab due to computational power needed."
   ]
  },
  {
   "cell_type": "code",
   "execution_count": null,
   "metadata": {},
   "outputs": [],
   "source": [
    "'''\n",
    "Input:\n",
    "svcParams = {'estimator__kernel':[poly','rbf','sigmoid','precomputer'],\n",
    "             'estimator__degree':[2,3,4],'estimator__coef0':[0,1,2],\n",
    "         'estimator__shrinking':[True,False],'estimator__decision_function_shape':['ovo','ovr']}\n",
    "\n",
    "gridSVC = grid(svc,svcParams,scoring = 'accuracy',n_jobs=-1)\n",
    "\n",
    "gridSVC.fit(X_trainMulti,y_trainMulti)\n",
    "\n",
    "gridSVC.best_params\n",
    "\n",
    "Output:\n",
    "estimator__coef0:1\n",
    "estimator__decision_function_shape:ovo\n",
    "estimator__degree:4\n",
    "estimator__kernel:poly\n",
    "estimator__shrinking:True\n",
    "'''"
   ]
  },
  {
   "cell_type": "code",
   "execution_count": 304,
   "metadata": {},
   "outputs": [
    {
     "name": "stdout",
     "output_type": "stream",
     "text": [
      "Tuned SVC\n",
      "[[  30   17  105]\n",
      " [   6  379  351]\n",
      " [  17  204 1125]]\n",
      "              precision    recall  f1-score   support\n",
      "\n",
      "           0       0.57      0.20      0.29       152\n",
      "           1       0.63      0.51      0.57       736\n",
      "           2       0.71      0.84      0.77      1346\n",
      "\n",
      "    accuracy                           0.69      2234\n",
      "   macro avg       0.64      0.52      0.54      2234\n",
      "weighted avg       0.68      0.69      0.67      2234\n",
      "\n"
     ]
    }
   ],
   "source": [
    "tunedSVC = OneVsOneClassifier(SVC(kernel='poly', degree=4,coef0=1,decision_function_shape='ovo'))\n",
    "tunedModelSVC = tunedSVC.fit(X_trainMulti,y_trainMulti)\n",
    "resultsSVC = tunedModelSVC.predict(X_testMulti)\n",
    "print('Tuned SVC')\n",
    "print(confusion_matrix(y_testMulti,resultsSVC))\n",
    "print(classification_report(y_testMulti,resultsSVC))"
   ]
  },
  {
   "cell_type": "code",
   "execution_count": 305,
   "metadata": {},
   "outputs": [
    {
     "data": {
      "text/plain": [
       "<matplotlib.axes._subplots.AxesSubplot at 0x7fb60531b350>"
      ]
     },
     "execution_count": 305,
     "metadata": {},
     "output_type": "execute_result"
    },
    {
     "data": {
      "image/png": "[encoded data removed]",
      "text/plain": [
       "<Figure size 432x288 with 2 Axes>"
      ]
     },
     "metadata": {
      "needs_background": "light"
     },
     "output_type": "display_data"
    }
   ],
   "source": [
    "sns.heatmap(confusion_matrix(y_testMulti,resultsSVC),annot=True)"
   ]
  },
  {
   "cell_type": "code",
   "execution_count": null,
   "metadata": {},
   "outputs": [],
   "source": []
  }
 ],
 "metadata": {
  "kernelspec": {
   "display_name": "Python 3",
   "language": "python",
   "name": "python3"
  },
  "language_info": {
   "codemirror_mode": {
    "name": "ipython",
    "version": 3
   },
   "file_extension": ".py",
   "mimetype": "text/x-python",
   "name": "python",
   "nbconvert_exporter": "python",
   "pygments_lexer": "ipython3",
   "version": "3.7.7"
  }
 },
 "nbformat": 4,
 "nbformat_minor": 4
}
