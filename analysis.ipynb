{
 "cells": [
  {
   "cell_type": "markdown",
   "metadata": {},
   "source": [
    "## Exploration"
   ]
  },
  {
   "cell_type": "markdown",
   "metadata": {},
   "source": [
    "Importing libraries for preprocessing, visualization, and exploration."
   ]
  },
  {
   "cell_type": "code",
   "execution_count": 1,
   "metadata": {},
   "outputs": [],
   "source": [
    "import nltk\n",
    "from nltk.corpus import stopwords\n",
    "import string\n",
    "from nltk.stem import WordNetLemmatizer\n",
    "from nltk import word_tokenize, FreqDist\n",
    "from sklearn.feature_extraction.text import TfidfVectorizer\n",
    "import pandas as pd\n",
    "import numpy as np\n",
    "import matplotlib.pyplot as plt\n",
    "import seaborn as sns\n",
    "from functions import *\n",
    "%matplotlib inline\n",
    "wml = WordNetLemmatizer()"
   ]
  },
  {
   "cell_type": "markdown",
   "metadata": {},
   "source": [
    "Importing dataset and encoding it in 'unicode_escape' due to some characters not being from the english language."
   ]
  },
  {
   "cell_type": "code",
   "execution_count": 2,
   "metadata": {},
   "outputs": [],
   "source": [
    "data = pd.read_csv('data.csv', encoding= 'unicode_escape')"
   ]
  },
  {
   "cell_type": "markdown",
   "metadata": {},
   "source": [
    "Preview of top 5 rows. "
   ]
  },
  {
   "cell_type": "code",
   "execution_count": 3,
   "metadata": {},
   "outputs": [
    {
     "data": {
      "text/html": [
       "<div>\n",
       "<style scoped>\n",
       "    .dataframe tbody tr th:only-of-type {\n",
       "        vertical-align: middle;\n",
       "    }\n",
       "\n",
       "    .dataframe tbody tr th {\n",
       "        vertical-align: top;\n",
       "    }\n",
       "\n",
       "    .dataframe thead th {\n",
       "        text-align: right;\n",
       "    }\n",
       "</style>\n",
       "<table border=\"1\" class=\"dataframe\">\n",
       "  <thead>\n",
       "    <tr style=\"text-align: right;\">\n",
       "      <th></th>\n",
       "      <th>tweet_text</th>\n",
       "      <th>emotion_in_tweet_is_directed_at</th>\n",
       "      <th>is_there_an_emotion_directed_at_a_brand_or_product</th>\n",
       "    </tr>\n",
       "  </thead>\n",
       "  <tbody>\n",
       "    <tr>\n",
       "      <th>0</th>\n",
       "      <td>.@wesley83 I have a 3G iPhone. After 3 hrs twe...</td>\n",
       "      <td>iPhone</td>\n",
       "      <td>Negative emotion</td>\n",
       "    </tr>\n",
       "    <tr>\n",
       "      <th>1</th>\n",
       "      <td>@jessedee Know about @fludapp ? Awesome iPad/i...</td>\n",
       "      <td>iPad or iPhone App</td>\n",
       "      <td>Positive emotion</td>\n",
       "    </tr>\n",
       "    <tr>\n",
       "      <th>2</th>\n",
       "      <td>@swonderlin Can not wait for #iPad 2 also. The...</td>\n",
       "      <td>iPad</td>\n",
       "      <td>Positive emotion</td>\n",
       "    </tr>\n",
       "    <tr>\n",
       "      <th>3</th>\n",
       "      <td>@sxsw I hope this year's festival isn't as cra...</td>\n",
       "      <td>iPad or iPhone App</td>\n",
       "      <td>Negative emotion</td>\n",
       "    </tr>\n",
       "    <tr>\n",
       "      <th>4</th>\n",
       "      <td>@sxtxstate great stuff on Fri #SXSW: Marissa M...</td>\n",
       "      <td>Google</td>\n",
       "      <td>Positive emotion</td>\n",
       "    </tr>\n",
       "  </tbody>\n",
       "</table>\n",
       "</div>"
      ],
      "text/plain": [
       "                                          tweet_text  \\\n",
       "0  .@wesley83 I have a 3G iPhone. After 3 hrs twe...   \n",
       "1  @jessedee Know about @fludapp ? Awesome iPad/i...   \n",
       "2  @swonderlin Can not wait for #iPad 2 also. The...   \n",
       "3  @sxsw I hope this year's festival isn't as cra...   \n",
       "4  @sxtxstate great stuff on Fri #SXSW: Marissa M...   \n",
       "\n",
       "  emotion_in_tweet_is_directed_at  \\\n",
       "0                          iPhone   \n",
       "1              iPad or iPhone App   \n",
       "2                            iPad   \n",
       "3              iPad or iPhone App   \n",
       "4                          Google   \n",
       "\n",
       "  is_there_an_emotion_directed_at_a_brand_or_product  \n",
       "0                                   Negative emotion  \n",
       "1                                   Positive emotion  \n",
       "2                                   Positive emotion  \n",
       "3                                   Negative emotion  \n",
       "4                                   Positive emotion  "
      ]
     },
     "execution_count": 3,
     "metadata": {},
     "output_type": "execute_result"
    }
   ],
   "source": [
    "data.head()"
   ]
  },
  {
   "cell_type": "markdown",
   "metadata": {},
   "source": [
    "Removing column 'emotion_in_tweet_is_directed_at' due to column not being part of analysis."
   ]
  },
  {
   "cell_type": "code",
   "execution_count": 4,
   "metadata": {},
   "outputs": [],
   "source": [
    "data = data.drop('emotion_in_tweet_is_directed_at',1)"
   ]
  },
  {
   "cell_type": "markdown",
   "metadata": {},
   "source": [
    "Getting info of pandas data frame."
   ]
  },
  {
   "cell_type": "code",
   "execution_count": 5,
   "metadata": {},
   "outputs": [
    {
     "name": "stdout",
     "output_type": "stream",
     "text": [
      "<class 'pandas.core.frame.DataFrame'>\n",
      "RangeIndex: 9093 entries, 0 to 9092\n",
      "Data columns (total 2 columns):\n",
      " #   Column                                              Non-Null Count  Dtype \n",
      "---  ------                                              --------------  ----- \n",
      " 0   tweet_text                                          9092 non-null   object\n",
      " 1   is_there_an_emotion_directed_at_a_brand_or_product  9093 non-null   object\n",
      "dtypes: object(2)\n",
      "memory usage: 142.2+ KB\n"
     ]
    }
   ],
   "source": [
    "data.info()"
   ]
  },
  {
   "cell_type": "markdown",
   "metadata": {},
   "source": [
    "Checking unique values of 'is_there_an_emotion_directed_at_a_brand_or_product'."
   ]
  },
  {
   "cell_type": "code",
   "execution_count": 6,
   "metadata": {},
   "outputs": [
    {
     "data": {
      "text/plain": [
       "array(['Negative emotion', 'Positive emotion',\n",
       "       'No emotion toward brand or product', \"I can't tell\"], dtype=object)"
      ]
     },
     "execution_count": 6,
     "metadata": {},
     "output_type": "execute_result"
    }
   ],
   "source": [
    "data.is_there_an_emotion_directed_at_a_brand_or_product.unique()"
   ]
  },
  {
   "cell_type": "markdown",
   "metadata": {},
   "source": [
    "Checking NaN values of 'tweet_text'"
   ]
  },
  {
   "cell_type": "code",
   "execution_count": 7,
   "metadata": {},
   "outputs": [
    {
     "data": {
      "text/plain": [
       "1"
      ]
     },
     "execution_count": 7,
     "metadata": {},
     "output_type": "execute_result"
    }
   ],
   "source": [
    "data.tweet_text.isna().sum()"
   ]
  },
  {
   "cell_type": "markdown",
   "metadata": {},
   "source": [
    "Checking 'I can't tell' categorie in 'is_there_an_emotion_directed_at_a_brand_or_product'."
   ]
  },
  {
   "cell_type": "code",
   "execution_count": 8,
   "metadata": {},
   "outputs": [
    {
     "data": {
      "text/html": [
       "<div>\n",
       "<style scoped>\n",
       "    .dataframe tbody tr th:only-of-type {\n",
       "        vertical-align: middle;\n",
       "    }\n",
       "\n",
       "    .dataframe tbody tr th {\n",
       "        vertical-align: top;\n",
       "    }\n",
       "\n",
       "    .dataframe thead th {\n",
       "        text-align: right;\n",
       "    }\n",
       "</style>\n",
       "<table border=\"1\" class=\"dataframe\">\n",
       "  <thead>\n",
       "    <tr style=\"text-align: right;\">\n",
       "      <th></th>\n",
       "      <th>tweet_text</th>\n",
       "      <th>is_there_an_emotion_directed_at_a_brand_or_product</th>\n",
       "    </tr>\n",
       "  </thead>\n",
       "  <tbody>\n",
       "    <tr>\n",
       "      <th>90</th>\n",
       "      <td>Thanks to @mention for publishing the news of ...</td>\n",
       "      <td>I can't tell</td>\n",
       "    </tr>\n",
       "    <tr>\n",
       "      <th>102</th>\n",
       "      <td>ÛÏ@mention &amp;quot;Apple has opened a pop-up st...</td>\n",
       "      <td>I can't tell</td>\n",
       "    </tr>\n",
       "    <tr>\n",
       "      <th>237</th>\n",
       "      <td>Just what America needs. RT @mention Google to...</td>\n",
       "      <td>I can't tell</td>\n",
       "    </tr>\n",
       "    <tr>\n",
       "      <th>341</th>\n",
       "      <td>The queue at the Apple Store in Austin is FOUR...</td>\n",
       "      <td>I can't tell</td>\n",
       "    </tr>\n",
       "    <tr>\n",
       "      <th>368</th>\n",
       "      <td>Hope it's better than wave RT @mention Buzz is...</td>\n",
       "      <td>I can't tell</td>\n",
       "    </tr>\n",
       "    <tr>\n",
       "      <th>...</th>\n",
       "      <td>...</td>\n",
       "      <td>...</td>\n",
       "    </tr>\n",
       "    <tr>\n",
       "      <th>9020</th>\n",
       "      <td>It's funny watching a room full of people hold...</td>\n",
       "      <td>I can't tell</td>\n",
       "    </tr>\n",
       "    <tr>\n",
       "      <th>9032</th>\n",
       "      <td>@mention yeah, we have @mention , Google has n...</td>\n",
       "      <td>I can't tell</td>\n",
       "    </tr>\n",
       "    <tr>\n",
       "      <th>9037</th>\n",
       "      <td>@mention Yes, the Google presentation was not ...</td>\n",
       "      <td>I can't tell</td>\n",
       "    </tr>\n",
       "    <tr>\n",
       "      <th>9058</th>\n",
       "      <td>&amp;quot;Do you know what Apple is really good at...</td>\n",
       "      <td>I can't tell</td>\n",
       "    </tr>\n",
       "    <tr>\n",
       "      <th>9066</th>\n",
       "      <td>How much you want to bet Apple is disproportio...</td>\n",
       "      <td>I can't tell</td>\n",
       "    </tr>\n",
       "  </tbody>\n",
       "</table>\n",
       "<p>156 rows × 2 columns</p>\n",
       "</div>"
      ],
      "text/plain": [
       "                                             tweet_text  \\\n",
       "90    Thanks to @mention for publishing the news of ...   \n",
       "102   ÛÏ@mention &quot;Apple has opened a pop-up st...   \n",
       "237   Just what America needs. RT @mention Google to...   \n",
       "341   The queue at the Apple Store in Austin is FOUR...   \n",
       "368   Hope it's better than wave RT @mention Buzz is...   \n",
       "...                                                 ...   \n",
       "9020  It's funny watching a room full of people hold...   \n",
       "9032  @mention yeah, we have @mention , Google has n...   \n",
       "9037  @mention Yes, the Google presentation was not ...   \n",
       "9058  &quot;Do you know what Apple is really good at...   \n",
       "9066  How much you want to bet Apple is disproportio...   \n",
       "\n",
       "     is_there_an_emotion_directed_at_a_brand_or_product  \n",
       "90                                         I can't tell  \n",
       "102                                        I can't tell  \n",
       "237                                        I can't tell  \n",
       "341                                        I can't tell  \n",
       "368                                        I can't tell  \n",
       "...                                                 ...  \n",
       "9020                                       I can't tell  \n",
       "9032                                       I can't tell  \n",
       "9037                                       I can't tell  \n",
       "9058                                       I can't tell  \n",
       "9066                                       I can't tell  \n",
       "\n",
       "[156 rows x 2 columns]"
      ]
     },
     "execution_count": 8,
     "metadata": {},
     "output_type": "execute_result"
    }
   ],
   "source": [
    "data[data.is_there_an_emotion_directed_at_a_brand_or_product == \"I can't tell\"]"
   ]
  },
  {
   "cell_type": "markdown",
   "metadata": {},
   "source": [
    "Renaming 'tweet_text' to 'tweet; and 'is_there_an_emotion_directed_at_a_brand_or_product' to 'emotion' for ease of use."
   ]
  },
  {
   "cell_type": "code",
   "execution_count": 9,
   "metadata": {},
   "outputs": [],
   "source": [
    "data = data.rename(columns={\"tweet_text\":'tweet','is_there_an_emotion_directed_at_a_brand_or_product':'emotion'})"
   ]
  },
  {
   "cell_type": "markdown",
   "metadata": {},
   "source": [
    "Removing 'I can't tell' from emotion and NaN values from tweet."
   ]
  },
  {
   "cell_type": "code",
   "execution_count": 10,
   "metadata": {},
   "outputs": [
    {
     "data": {
      "text/html": [
       "<div>\n",
       "<style scoped>\n",
       "    .dataframe tbody tr th:only-of-type {\n",
       "        vertical-align: middle;\n",
       "    }\n",
       "\n",
       "    .dataframe tbody tr th {\n",
       "        vertical-align: top;\n",
       "    }\n",
       "\n",
       "    .dataframe thead th {\n",
       "        text-align: right;\n",
       "    }\n",
       "</style>\n",
       "<table border=\"1\" class=\"dataframe\">\n",
       "  <thead>\n",
       "    <tr style=\"text-align: right;\">\n",
       "      <th></th>\n",
       "      <th>tweet</th>\n",
       "      <th>emotion</th>\n",
       "    </tr>\n",
       "  </thead>\n",
       "  <tbody>\n",
       "    <tr>\n",
       "      <th>0</th>\n",
       "      <td>.@wesley83 I have a 3G iPhone. After 3 hrs twe...</td>\n",
       "      <td>Negative emotion</td>\n",
       "    </tr>\n",
       "    <tr>\n",
       "      <th>1</th>\n",
       "      <td>@jessedee Know about @fludapp ? Awesome iPad/i...</td>\n",
       "      <td>Positive emotion</td>\n",
       "    </tr>\n",
       "    <tr>\n",
       "      <th>2</th>\n",
       "      <td>@swonderlin Can not wait for #iPad 2 also. The...</td>\n",
       "      <td>Positive emotion</td>\n",
       "    </tr>\n",
       "    <tr>\n",
       "      <th>3</th>\n",
       "      <td>@sxsw I hope this year's festival isn't as cra...</td>\n",
       "      <td>Negative emotion</td>\n",
       "    </tr>\n",
       "    <tr>\n",
       "      <th>4</th>\n",
       "      <td>@sxtxstate great stuff on Fri #SXSW: Marissa M...</td>\n",
       "      <td>Positive emotion</td>\n",
       "    </tr>\n",
       "    <tr>\n",
       "      <th>...</th>\n",
       "      <td>...</td>\n",
       "      <td>...</td>\n",
       "    </tr>\n",
       "    <tr>\n",
       "      <th>9088</th>\n",
       "      <td>Ipad everywhere. #SXSW {link}</td>\n",
       "      <td>Positive emotion</td>\n",
       "    </tr>\n",
       "    <tr>\n",
       "      <th>9089</th>\n",
       "      <td>Wave, buzz... RT @mention We interrupt your re...</td>\n",
       "      <td>No emotion toward brand or product</td>\n",
       "    </tr>\n",
       "    <tr>\n",
       "      <th>9090</th>\n",
       "      <td>Google's Zeiger, a physician never reported po...</td>\n",
       "      <td>No emotion toward brand or product</td>\n",
       "    </tr>\n",
       "    <tr>\n",
       "      <th>9091</th>\n",
       "      <td>Some Verizon iPhone customers complained their...</td>\n",
       "      <td>No emotion toward brand or product</td>\n",
       "    </tr>\n",
       "    <tr>\n",
       "      <th>9092</th>\n",
       "      <td>Ï¡Ïàü_ÊÎÒ£Áââ_£â_ÛâRT @...</td>\n",
       "      <td>No emotion toward brand or product</td>\n",
       "    </tr>\n",
       "  </tbody>\n",
       "</table>\n",
       "<p>8936 rows × 2 columns</p>\n",
       "</div>"
      ],
      "text/plain": [
       "                                                  tweet  \\\n",
       "0     .@wesley83 I have a 3G iPhone. After 3 hrs twe...   \n",
       "1     @jessedee Know about @fludapp ? Awesome iPad/i...   \n",
       "2     @swonderlin Can not wait for #iPad 2 also. The...   \n",
       "3     @sxsw I hope this year's festival isn't as cra...   \n",
       "4     @sxtxstate great stuff on Fri #SXSW: Marissa M...   \n",
       "...                                                 ...   \n",
       "9088                      Ipad everywhere. #SXSW {link}   \n",
       "9089  Wave, buzz... RT @mention We interrupt your re...   \n",
       "9090  Google's Zeiger, a physician never reported po...   \n",
       "9091  Some Verizon iPhone customers complained their...   \n",
       "9092  Ï¡Ïàü_ÊÎÒ£Áââ_£â_ÛâRT @...   \n",
       "\n",
       "                                 emotion  \n",
       "0                       Negative emotion  \n",
       "1                       Positive emotion  \n",
       "2                       Positive emotion  \n",
       "3                       Negative emotion  \n",
       "4                       Positive emotion  \n",
       "...                                  ...  \n",
       "9088                    Positive emotion  \n",
       "9089  No emotion toward brand or product  \n",
       "9090  No emotion toward brand or product  \n",
       "9091  No emotion toward brand or product  \n",
       "9092  No emotion toward brand or product  \n",
       "\n",
       "[8936 rows x 2 columns]"
      ]
     },
     "execution_count": 10,
     "metadata": {},
     "output_type": "execute_result"
    }
   ],
   "source": [
    "data = data.loc[(data.emotion != \"I can't tell\") & (data.tweet.isna() != True)]\n",
    "data"
   ]
  },
  {
   "cell_type": "markdown",
   "metadata": {},
   "source": [
    "Renaming categories in emotion from 'Positive emotion', 'Negative Emotion', and 'Neutral Emotion' to 'positive', 'negative', and 'neutral' respectably. "
   ]
  },
  {
   "cell_type": "code",
   "execution_count": 11,
   "metadata": {},
   "outputs": [
    {
     "data": {
      "text/html": [
       "<div>\n",
       "<style scoped>\n",
       "    .dataframe tbody tr th:only-of-type {\n",
       "        vertical-align: middle;\n",
       "    }\n",
       "\n",
       "    .dataframe tbody tr th {\n",
       "        vertical-align: top;\n",
       "    }\n",
       "\n",
       "    .dataframe thead th {\n",
       "        text-align: right;\n",
       "    }\n",
       "</style>\n",
       "<table border=\"1\" class=\"dataframe\">\n",
       "  <thead>\n",
       "    <tr style=\"text-align: right;\">\n",
       "      <th></th>\n",
       "      <th>tweet</th>\n",
       "      <th>emotion</th>\n",
       "    </tr>\n",
       "  </thead>\n",
       "  <tbody>\n",
       "    <tr>\n",
       "      <th>0</th>\n",
       "      <td>.@wesley83 I have a 3G iPhone. After 3 hrs twe...</td>\n",
       "      <td>negative</td>\n",
       "    </tr>\n",
       "    <tr>\n",
       "      <th>1</th>\n",
       "      <td>@jessedee Know about @fludapp ? Awesome iPad/i...</td>\n",
       "      <td>positive</td>\n",
       "    </tr>\n",
       "    <tr>\n",
       "      <th>2</th>\n",
       "      <td>@swonderlin Can not wait for #iPad 2 also. The...</td>\n",
       "      <td>positive</td>\n",
       "    </tr>\n",
       "    <tr>\n",
       "      <th>3</th>\n",
       "      <td>@sxsw I hope this year's festival isn't as cra...</td>\n",
       "      <td>negative</td>\n",
       "    </tr>\n",
       "    <tr>\n",
       "      <th>4</th>\n",
       "      <td>@sxtxstate great stuff on Fri #SXSW: Marissa M...</td>\n",
       "      <td>positive</td>\n",
       "    </tr>\n",
       "    <tr>\n",
       "      <th>...</th>\n",
       "      <td>...</td>\n",
       "      <td>...</td>\n",
       "    </tr>\n",
       "    <tr>\n",
       "      <th>9088</th>\n",
       "      <td>Ipad everywhere. #SXSW {link}</td>\n",
       "      <td>positive</td>\n",
       "    </tr>\n",
       "    <tr>\n",
       "      <th>9089</th>\n",
       "      <td>Wave, buzz... RT @mention We interrupt your re...</td>\n",
       "      <td>neutral</td>\n",
       "    </tr>\n",
       "    <tr>\n",
       "      <th>9090</th>\n",
       "      <td>Google's Zeiger, a physician never reported po...</td>\n",
       "      <td>neutral</td>\n",
       "    </tr>\n",
       "    <tr>\n",
       "      <th>9091</th>\n",
       "      <td>Some Verizon iPhone customers complained their...</td>\n",
       "      <td>neutral</td>\n",
       "    </tr>\n",
       "    <tr>\n",
       "      <th>9092</th>\n",
       "      <td>Ï¡Ïàü_ÊÎÒ£Áââ_£â_ÛâRT @...</td>\n",
       "      <td>neutral</td>\n",
       "    </tr>\n",
       "  </tbody>\n",
       "</table>\n",
       "<p>8936 rows × 2 columns</p>\n",
       "</div>"
      ],
      "text/plain": [
       "                                                  tweet   emotion\n",
       "0     .@wesley83 I have a 3G iPhone. After 3 hrs twe...  negative\n",
       "1     @jessedee Know about @fludapp ? Awesome iPad/i...  positive\n",
       "2     @swonderlin Can not wait for #iPad 2 also. The...  positive\n",
       "3     @sxsw I hope this year's festival isn't as cra...  negative\n",
       "4     @sxtxstate great stuff on Fri #SXSW: Marissa M...  positive\n",
       "...                                                 ...       ...\n",
       "9088                      Ipad everywhere. #SXSW {link}  positive\n",
       "9089  Wave, buzz... RT @mention We interrupt your re...   neutral\n",
       "9090  Google's Zeiger, a physician never reported po...   neutral\n",
       "9091  Some Verizon iPhone customers complained their...   neutral\n",
       "9092  Ï¡Ïàü_ÊÎÒ£Áââ_£â_ÛâRT @...   neutral\n",
       "\n",
       "[8936 rows x 2 columns]"
      ]
     },
     "execution_count": 11,
     "metadata": {},
     "output_type": "execute_result"
    }
   ],
   "source": [
    "data.emotion = data.emotion.map(lambda x: 'positive' if x == 'Positive emotion' else 'negative' if x == 'Negative emotion' else 'neutral')\n",
    "data"
   ]
  },
  {
   "cell_type": "markdown",
   "metadata": {},
   "source": [
    "Separating positive, negative, and neutral from emotions and visualizating quantity of data. "
   ]
  },
  {
   "cell_type": "code",
   "execution_count": 12,
   "metadata": {},
   "outputs": [
    {
     "data": {
      "text/plain": [
       "<matplotlib.axes._subplots.AxesSubplot at 0x7fb5fc5339d0>"
      ]
     },
     "execution_count": 12,
     "metadata": {},
     "output_type": "execute_result"
    },
    {
     "data": {
      "image/png": "[encoded data removed]",
      "text/plain": [
       "<Figure size 432x288 with 1 Axes>"
      ]
     },
     "metadata": {
      "needs_background": "light"
     },
     "output_type": "display_data"
    }
   ],
   "source": [
    "positive = data.loc[data.emotion == 'positive']\n",
    "negative = data.loc[data.emotion == 'negative']\n",
    "neutral = data.loc[data.emotion == 'neutral']\n",
    "sns.barplot(['Positive','Negative','Neutral'],[positive.count()[0],negative.count()[0],neutral.count()[0]])"
   ]
  },
  {
   "cell_type": "markdown",
   "metadata": {},
   "source": [
    "Tokenizing words from positive, negative, and neutral category."
   ]
  },
  {
   "cell_type": "code",
   "execution_count": 13,
   "metadata": {},
   "outputs": [],
   "source": [
    "tokenizedPositive = [word_tokenize(i) for i in positive.tweet]\n",
    "tokenizedNegative = [word_tokenize(i) for i in negative.tweet]\n",
    "tokenizedNeutral = [word_tokenize(i) for i in neutral.tweet]"
   ]
  },
  {
   "cell_type": "markdown",
   "metadata": {},
   "source": [
    "Checking unique words from each emotion category. "
   ]
  },
  {
   "cell_type": "code",
   "execution_count": 14,
   "metadata": {},
   "outputs": [
    {
     "name": "stdout",
     "output_type": "stream",
     "text": [
      "Unique Positive 6692\n",
      "Unique Negative 2574\n",
      "Unique Neutral 9784\n"
     ]
    }
   ],
   "source": [
    "posUnique = uniqueWords(tokenizedPositive)\n",
    "negUnique = uniqueWords(tokenizedNegative)\n",
    "neutUnique = uniqueWords(tokenizedNeutral)\n",
    "print('Unique Positive {}'.format(posUnique))\n",
    "print('Unique Negative {}'.format(negUnique))\n",
    "print('Unique Neutral {}'.format(neutUnique))"
   ]
  },
  {
   "cell_type": "markdown",
   "metadata": {},
   "source": [
    "Cleaning tokenized categories by removing stopwords and punctuation. "
   ]
  },
  {
   "cell_type": "code",
   "execution_count": 15,
   "metadata": {},
   "outputs": [],
   "source": [
    "cleanPositive = cleanTokenList(tokenizedPositive)\n",
    "cleanNegative = cleanTokenList(tokenizedNegative)\n",
    "cleanNeutral = cleanTokenList(tokenizedNeutral)"
   ]
  },
  {
   "cell_type": "markdown",
   "metadata": {},
   "source": [
    "Lemmatizing words in cleaned lists."
   ]
  },
  {
   "cell_type": "code",
   "execution_count": 16,
   "metadata": {},
   "outputs": [],
   "source": [
    "lemPositive = [wml.lemmatize(i) for i in cleanPositive]\n",
    "lemNegative = [wml.lemmatize(i) for i in cleanNegative]\n",
    "lemNeutral = [wml.lemmatize(i) for i in cleanNeutral]"
   ]
  },
  {
   "cell_type": "markdown",
   "metadata": {},
   "source": [
    "Checking frequency of words. "
   ]
  },
  {
   "cell_type": "code",
   "execution_count": 17,
   "metadata": {},
   "outputs": [],
   "source": [
    "freqPositive = FreqDist(lemPositive)\n",
    "freqNegative = FreqDist(lemNegative)\n",
    "freqNeutral = FreqDist(lemNeutral)"
   ]
  },
  {
   "cell_type": "markdown",
   "metadata": {},
   "source": [
    "Ordering frequency dictionary by value."
   ]
  },
  {
   "cell_type": "code",
   "execution_count": 18,
   "metadata": {},
   "outputs": [],
   "source": [
    "orderedPositive = {k: v for k, v in sorted(freqPositive.items(), key=lambda item: item[1],reverse= True)}\n",
    "orderedNegative = {k: v for k, v in sorted(freqNegative.items(), key=lambda item: item[1],reverse= True)}\n",
    "orderedNeutral = {k: v for k, v in sorted(freqNeutral.items(), key=lambda item: item[1],reverse= True)}"
   ]
  },
  {
   "cell_type": "markdown",
   "metadata": {},
   "source": [
    "Visualizing ordered frequency for positive, negative, and neutral category. "
   ]
  },
  {
   "cell_type": "code",
   "execution_count": 19,
   "metadata": {},
   "outputs": [
    {
     "data": {
      "image/png": "[encoded data removed]",
      "text/plain": [
       "<Figure size 1080x720 with 4 Axes>"
      ]
     },
     "metadata": {},
     "output_type": "display_data"
    }
   ],
   "source": [
    "with plt.style.context('ggplot'):\n",
    "    fig, ax = plt.subplots(nrows=2, ncols=2,figsize=(15,10))\n",
    "    orderedData = [orderedPositive,orderedNegative,orderedNeutral]\n",
    "    title = ['Positive','Negative','Neutral']\n",
    "    i = 0\n",
    "    for row in ax:\n",
    "        for col in row:\n",
    "            x = list(orderedData[i].keys())[:10]\n",
    "            y = list(orderedData[i].values())[:10]\n",
    "            sns.barplot(x,y,ax=col)\n",
    "            col.title.set_text(title[i])\n",
    "            i += 1\n",
    "            if i == 3:\n",
    "                break\n",
    "        if i == 3:\n",
    "            break"
   ]
  },
  {
   "cell_type": "markdown",
   "metadata": {},
   "source": [
    "Finding unique words for positive and negative emotion."
   ]
  },
  {
   "cell_type": "code",
   "execution_count": 20,
   "metadata": {},
   "outputs": [],
   "source": [
    "positiveWords = [word for word in lemPositive if word not in lemNegative]\n",
    "negativeWords = [word for word in lemNegative if word not in lemPositive]"
   ]
  },
  {
   "cell_type": "markdown",
   "metadata": {},
   "source": [
    "Checking frequency of words."
   ]
  },
  {
   "cell_type": "code",
   "execution_count": 21,
   "metadata": {},
   "outputs": [],
   "source": [
    "freqPositiveWords = FreqDist(positiveWords)\n",
    "negativeWords = FreqDist(negativeWords)"
   ]
  },
  {
   "cell_type": "markdown",
   "metadata": {},
   "source": [
    "Ordering frequency dictionary by value."
   ]
  },
  {
   "cell_type": "code",
   "execution_count": 22,
   "metadata": {},
   "outputs": [],
   "source": [
    "orderedPositiveWords = {k: v for k, v in sorted(freqPositiveWords.items(), key=lambda item: item[1],reverse= True)}\n",
    "orderedNegativeWords = {k: v for k, v in sorted(negativeWords.items(), key=lambda item: item[1],reverse= True)}"
   ]
  },
  {
   "cell_type": "markdown",
   "metadata": {},
   "source": [
    "visualizing unique positive and negative words."
   ]
  },
  {
   "cell_type": "code",
   "execution_count": 23,
   "metadata": {},
   "outputs": [
    {
     "data": {
      "image/png": "[encoded data removed]",
      "text/plain": [
       "<Figure size 1440x360 with 2 Axes>"
      ]
     },
     "metadata": {},
     "output_type": "display_data"
    }
   ],
   "source": [
    "with plt.style.context('ggplot'):\n",
    "    orderedData = [orderedPositiveWords,orderedNegativeWords]\n",
    "    i = 0\n",
    "    fig, ax = plt.subplots(nrows=1, ncols=2,figsize=(20,5))\n",
    "    for col in ax:\n",
    "        x = list(orderedData[i].keys())[:10]\n",
    "        y = list(orderedData[i].values())[:10]\n",
    "        i += 1\n",
    "        sns.barplot(x,y,ax=col)\n",
    "        "
   ]
  },
  {
   "cell_type": "markdown",
   "metadata": {},
   "source": [
    "## Analysis"
   ]
  },
  {
   "cell_type": "markdown",
   "metadata": {},
   "source": [
    "Importing classifiers, metrics, and modeling tools."
   ]
  },
  {
   "cell_type": "code",
   "execution_count": 24,
   "metadata": {},
   "outputs": [],
   "source": [
    "from sklearn.metrics import f1_score,accuracy_score,recall_score,precision_score,confusion_matrix,classification_report\n",
    "from sklearn.multiclass import OneVsOneClassifier,OneVsRestClassifier\n",
    "from sklearn.linear_model import LogisticRegression\n",
    "from sklearn.neighbors import KNeighborsClassifier\n",
    "from sklearn.naive_bayes import MultinomialNB\n",
    "from sklearn.tree import DecisionTreeClassifier\n",
    "from sklearn.ensemble import RandomForestClassifier\n",
    "from sklearn.ensemble import AdaBoostClassifier\n",
    "from sklearn.ensemble import GradientBoostingClassifier\n",
    "from sklearn.svm import SVC\n",
    "from xgboost import XGBClassifier as xgbc\n",
    "from sklearn.feature_extraction.text import TfidfVectorizer\n",
    "from sklearn.model_selection import train_test_split\n",
    "vectorizer = TfidfVectorizer()"
   ]
  },
  {
   "cell_type": "markdown",
   "metadata": {},
   "source": [
    "### Iteration 1 (Binary)"
   ]
  },
  {
   "cell_type": "markdown",
   "metadata": {},
   "source": [
    "Making binary data frame by removing 'neutral' emotion."
   ]
  },
  {
   "cell_type": "code",
   "execution_count": 25,
   "metadata": {},
   "outputs": [],
   "source": [
    "binaryData = data.loc[data.emotion != 'neutral']"
   ]
  },
  {
   "cell_type": "markdown",
   "metadata": {},
   "source": [
    "Cleaning tweets and making positive = 1 and negative = 0."
   ]
  },
  {
   "cell_type": "code",
   "execution_count": 26,
   "metadata": {},
   "outputs": [],
   "source": [
    "binaryTweet = binaryData.tweet.map(cleanTweets)\n",
    "binaryTweetTarget = binaryData.emotion.map(lambda x: 1 if x=='positive' else 0)"
   ]
  },
  {
   "cell_type": "markdown",
   "metadata": {},
   "source": [
    "Vectorizing tweets."
   ]
  },
  {
   "cell_type": "code",
   "execution_count": 27,
   "metadata": {},
   "outputs": [],
   "source": [
    "binaryVectorTweet = vectorizer.fit_transform(binaryTweet)"
   ]
  },
  {
   "cell_type": "code",
   "execution_count": 28,
   "metadata": {},
   "outputs": [
    {
     "data": {
      "text/plain": [
       "(3548, 5550)"
      ]
     },
     "execution_count": 28,
     "metadata": {},
     "output_type": "execute_result"
    }
   ],
   "source": [
    "binaryVectorTweet.shape"
   ]
  },
  {
   "cell_type": "markdown",
   "metadata": {},
   "source": [
    "splitting tweets into train and test sets."
   ]
  },
  {
   "cell_type": "code",
   "execution_count": 29,
   "metadata": {},
   "outputs": [],
   "source": [
    "X_train, X_test, y_train, y_test = train_test_split(binaryVectorTweet,binaryTweetTarget,random_state=0)"
   ]
  },
  {
   "cell_type": "markdown",
   "metadata": {},
   "source": [
    "Using multiple vanilla classifiers and compaing their results."
   ]
  },
  {
   "cell_type": "code",
   "execution_count": 30,
   "metadata": {},
   "outputs": [],
   "source": [
    "algos = {'Logistic Regression':LogisticRegression(),'K-Neighbors':KNeighborsClassifier(),\n",
    "         'Decision Tree':DecisionTreeClassifier(),'Random Forest':RandomForestClassifier(),\n",
    "         'AdaBoost':AdaBoostClassifier(),'Gradient Boost':GradientBoostingClassifier(),\n",
    "         'XGBoost Classifier':xgbc(),'SVC':SVC(),'Naive Bayes':MultinomialNB()}"
   ]
  },
  {
   "cell_type": "code",
   "execution_count": 190,
   "metadata": {
    "scrolled": true
   },
   "outputs": [
    {
     "data": {
      "text/html": [
       "<div>\n",
       "<style scoped>\n",
       "    .dataframe tbody tr th:only-of-type {\n",
       "        vertical-align: middle;\n",
       "    }\n",
       "\n",
       "    .dataframe tbody tr th {\n",
       "        vertical-align: top;\n",
       "    }\n",
       "\n",
       "    .dataframe thead th {\n",
       "        text-align: right;\n",
       "    }\n",
       "</style>\n",
       "<table border=\"1\" class=\"dataframe\">\n",
       "  <thead>\n",
       "    <tr style=\"text-align: right;\">\n",
       "      <th></th>\n",
       "      <th>Models</th>\n",
       "      <th>Training Accuracy</th>\n",
       "      <th>Test Accuracy</th>\n",
       "      <th>F1 Train</th>\n",
       "      <th>F1 Test</th>\n",
       "    </tr>\n",
       "  </thead>\n",
       "  <tbody>\n",
       "    <tr>\n",
       "      <th>7</th>\n",
       "      <td>SVC</td>\n",
       "      <td>0.976325</td>\n",
       "      <td>0.866967</td>\n",
       "      <td>0.986126</td>\n",
       "      <td>0.925786</td>\n",
       "    </tr>\n",
       "    <tr>\n",
       "      <th>6</th>\n",
       "      <td>XGBoost Classifier</td>\n",
       "      <td>0.949267</td>\n",
       "      <td>0.862458</td>\n",
       "      <td>0.970722</td>\n",
       "      <td>0.921795</td>\n",
       "    </tr>\n",
       "    <tr>\n",
       "      <th>3</th>\n",
       "      <td>Random Forest</td>\n",
       "      <td>1.000000</td>\n",
       "      <td>0.861330</td>\n",
       "      <td>1.000000</td>\n",
       "      <td>0.922593</td>\n",
       "    </tr>\n",
       "    <tr>\n",
       "      <th>5</th>\n",
       "      <td>Gradient Boost</td>\n",
       "      <td>0.879369</td>\n",
       "      <td>0.851184</td>\n",
       "      <td>0.933139</td>\n",
       "      <td>0.917500</td>\n",
       "    </tr>\n",
       "    <tr>\n",
       "      <th>4</th>\n",
       "      <td>AdaBoost</td>\n",
       "      <td>0.877490</td>\n",
       "      <td>0.850056</td>\n",
       "      <td>0.931224</td>\n",
       "      <td>0.915769</td>\n",
       "    </tr>\n",
       "    <tr>\n",
       "      <th>0</th>\n",
       "      <td>Logistic Regression</td>\n",
       "      <td>0.862834</td>\n",
       "      <td>0.845547</td>\n",
       "      <td>0.924633</td>\n",
       "      <td>0.914960</td>\n",
       "    </tr>\n",
       "    <tr>\n",
       "      <th>1</th>\n",
       "      <td>K-Neighbors</td>\n",
       "      <td>0.888388</td>\n",
       "      <td>0.842165</td>\n",
       "      <td>0.937063</td>\n",
       "      <td>0.911839</td>\n",
       "    </tr>\n",
       "    <tr>\n",
       "      <th>8</th>\n",
       "      <td>Naive Bayes</td>\n",
       "      <td>0.853814</td>\n",
       "      <td>0.839910</td>\n",
       "      <td>0.920107</td>\n",
       "      <td>0.912237</td>\n",
       "    </tr>\n",
       "    <tr>\n",
       "      <th>2</th>\n",
       "      <td>Decision Tree</td>\n",
       "      <td>1.000000</td>\n",
       "      <td>0.830891</td>\n",
       "      <td>1.000000</td>\n",
       "      <td>0.901055</td>\n",
       "    </tr>\n",
       "  </tbody>\n",
       "</table>\n",
       "</div>"
      ],
      "text/plain": [
       "                Models  Training Accuracy  Test Accuracy  F1 Train   F1 Test\n",
       "7                  SVC           0.976325       0.866967  0.986126  0.925786\n",
       "6   XGBoost Classifier           0.949267       0.862458  0.970722  0.921795\n",
       "3        Random Forest           1.000000       0.861330  1.000000  0.922593\n",
       "5       Gradient Boost           0.879369       0.851184  0.933139  0.917500\n",
       "4             AdaBoost           0.877490       0.850056  0.931224  0.915769\n",
       "0  Logistic Regression           0.862834       0.845547  0.924633  0.914960\n",
       "1          K-Neighbors           0.888388       0.842165  0.937063  0.911839\n",
       "8          Naive Bayes           0.853814       0.839910  0.920107  0.912237\n",
       "2        Decision Tree           1.000000       0.830891  1.000000  0.901055"
      ]
     },
     "execution_count": 190,
     "metadata": {},
     "output_type": "execute_result"
    }
   ],
   "source": [
    "modelDF = ModelCompare(algos,X_train,y_train,X_test,y_test)\n",
    "modelDF.sort_values('Test Accuracy',0,False)"
   ]
  },
  {
   "cell_type": "markdown",
   "metadata": {},
   "source": [
    "### Iteration 2"
   ]
  },
  {
   "cell_type": "markdown",
   "metadata": {},
   "source": [
    "Finding common words between positive and negative emotions."
   ]
  },
  {
   "cell_type": "code",
   "execution_count": 32,
   "metadata": {},
   "outputs": [],
   "source": [
    "allWords = lemPositive + lemNegative\n",
    "commonWords = [word for word in allWords if (word not in positiveWords) and (word not in negativeWords)]"
   ]
  },
  {
   "cell_type": "markdown",
   "metadata": {},
   "source": [
    "Cleaning tweets and removing common words. Making positive = 1 and negative = 0."
   ]
  },
  {
   "cell_type": "code",
   "execution_count": 33,
   "metadata": {},
   "outputs": [],
   "source": [
    "tweetsUniqueWords = binaryData.tweet.map(lambda x: cleanTweets(x,commonWords))\n",
    "tweetsUniqueTarget = binaryData.emotion.map(lambda x: 1 if x=='positive' else 0)"
   ]
  },
  {
   "cell_type": "markdown",
   "metadata": {},
   "source": [
    "Vectorizing tweets."
   ]
  },
  {
   "cell_type": "code",
   "execution_count": 34,
   "metadata": {},
   "outputs": [],
   "source": [
    "tweetsUniqueVector = vectorizer.fit_transform(tweetsUniqueWords)"
   ]
  },
  {
   "cell_type": "code",
   "execution_count": 35,
   "metadata": {},
   "outputs": [
    {
     "data": {
      "text/plain": [
       "(3548, 4846)"
      ]
     },
     "execution_count": 35,
     "metadata": {},
     "output_type": "execute_result"
    }
   ],
   "source": [
    "tweetsUniqueVector.shape"
   ]
  },
  {
   "cell_type": "markdown",
   "metadata": {},
   "source": [
    "Splitting set into train and test set."
   ]
  },
  {
   "cell_type": "code",
   "execution_count": 36,
   "metadata": {},
   "outputs": [],
   "source": [
    "X_trainUnique, X_testUnique, y_trainUnique, y_testUnique = train_test_split(tweetsUniqueVector, tweetsUniqueTarget, random_state=0)"
   ]
  },
  {
   "cell_type": "markdown",
   "metadata": {},
   "source": [
    "Using multiple algorithms and comparing results."
   ]
  },
  {
   "cell_type": "code",
   "execution_count": 191,
   "metadata": {},
   "outputs": [
    {
     "data": {
      "text/html": [
       "<div>\n",
       "<style scoped>\n",
       "    .dataframe tbody tr th:only-of-type {\n",
       "        vertical-align: middle;\n",
       "    }\n",
       "\n",
       "    .dataframe tbody tr th {\n",
       "        vertical-align: top;\n",
       "    }\n",
       "\n",
       "    .dataframe thead th {\n",
       "        text-align: right;\n",
       "    }\n",
       "</style>\n",
       "<table border=\"1\" class=\"dataframe\">\n",
       "  <thead>\n",
       "    <tr style=\"text-align: right;\">\n",
       "      <th></th>\n",
       "      <th>Models</th>\n",
       "      <th>Training Accuracy</th>\n",
       "      <th>Test Accuracy</th>\n",
       "      <th>F1 Train</th>\n",
       "      <th>F1 Test</th>\n",
       "    </tr>\n",
       "  </thead>\n",
       "  <tbody>\n",
       "    <tr>\n",
       "      <th>3</th>\n",
       "      <td>Random Forest</td>\n",
       "      <td>0.980083</td>\n",
       "      <td>0.883878</td>\n",
       "      <td>0.988308</td>\n",
       "      <td>0.934101</td>\n",
       "    </tr>\n",
       "    <tr>\n",
       "      <th>2</th>\n",
       "      <td>Decision Tree</td>\n",
       "      <td>0.980083</td>\n",
       "      <td>0.871477</td>\n",
       "      <td>0.988287</td>\n",
       "      <td>0.926070</td>\n",
       "    </tr>\n",
       "    <tr>\n",
       "      <th>7</th>\n",
       "      <td>SVC</td>\n",
       "      <td>0.974070</td>\n",
       "      <td>0.868095</td>\n",
       "      <td>0.984832</td>\n",
       "      <td>0.926276</td>\n",
       "    </tr>\n",
       "    <tr>\n",
       "      <th>4</th>\n",
       "      <td>AdaBoost</td>\n",
       "      <td>0.882751</td>\n",
       "      <td>0.850056</td>\n",
       "      <td>0.934316</td>\n",
       "      <td>0.916088</td>\n",
       "    </tr>\n",
       "    <tr>\n",
       "      <th>8</th>\n",
       "      <td>Naive Bayes</td>\n",
       "      <td>0.891770</td>\n",
       "      <td>0.850056</td>\n",
       "      <td>0.939597</td>\n",
       "      <td>0.917237</td>\n",
       "    </tr>\n",
       "    <tr>\n",
       "      <th>6</th>\n",
       "      <td>XGBoost Classifier</td>\n",
       "      <td>0.876738</td>\n",
       "      <td>0.848929</td>\n",
       "      <td>0.931438</td>\n",
       "      <td>0.915617</td>\n",
       "    </tr>\n",
       "    <tr>\n",
       "      <th>5</th>\n",
       "      <td>Gradient Boost</td>\n",
       "      <td>0.873732</td>\n",
       "      <td>0.847802</td>\n",
       "      <td>0.930233</td>\n",
       "      <td>0.915678</td>\n",
       "    </tr>\n",
       "    <tr>\n",
       "      <th>1</th>\n",
       "      <td>K-Neighbors</td>\n",
       "      <td>0.884630</td>\n",
       "      <td>0.841037</td>\n",
       "      <td>0.935054</td>\n",
       "      <td>0.910362</td>\n",
       "    </tr>\n",
       "    <tr>\n",
       "      <th>0</th>\n",
       "      <td>Logistic Regression</td>\n",
       "      <td>0.856821</td>\n",
       "      <td>0.837655</td>\n",
       "      <td>0.921621</td>\n",
       "      <td>0.910891</td>\n",
       "    </tr>\n",
       "  </tbody>\n",
       "</table>\n",
       "</div>"
      ],
      "text/plain": [
       "                Models  Training Accuracy  Test Accuracy  F1 Train   F1 Test\n",
       "3        Random Forest           0.980083       0.883878  0.988308  0.934101\n",
       "2        Decision Tree           0.980083       0.871477  0.988287  0.926070\n",
       "7                  SVC           0.974070       0.868095  0.984832  0.926276\n",
       "4             AdaBoost           0.882751       0.850056  0.934316  0.916088\n",
       "8          Naive Bayes           0.891770       0.850056  0.939597  0.917237\n",
       "6   XGBoost Classifier           0.876738       0.848929  0.931438  0.915617\n",
       "5       Gradient Boost           0.873732       0.847802  0.930233  0.915678\n",
       "1          K-Neighbors           0.884630       0.841037  0.935054  0.910362\n",
       "0  Logistic Regression           0.856821       0.837655  0.921621  0.910891"
      ]
     },
     "execution_count": 191,
     "metadata": {},
     "output_type": "execute_result"
    }
   ],
   "source": [
    "modelDF = ModelCompare(algos,X_trainUnique,y_trainUnique,X_testUnique,y_testUnique)\n",
    "modelDF.sort_values('Test Accuracy',0,False)"
   ]
  },
  {
   "cell_type": "markdown",
   "metadata": {},
   "source": [
    "### Iteration 1 (Ternary Model)"
   ]
  },
  {
   "cell_type": "markdown",
   "metadata": {},
   "source": [
    "Cleaning tweets and turning neutral = 2, positive = 1, and negative = 0."
   ]
  },
  {
   "cell_type": "code",
   "execution_count": 38,
   "metadata": {},
   "outputs": [],
   "source": [
    "allDataTweet = data.tweet.map(cleanTweets)\n",
    "allDataTarget = data.emotion.map(lambda x: 2 if x=='neutral' else 1 if x=='positive' else 0)"
   ]
  },
  {
   "cell_type": "markdown",
   "metadata": {},
   "source": [
    "Vectorizing tweets."
   ]
  },
  {
   "cell_type": "code",
   "execution_count": 39,
   "metadata": {},
   "outputs": [],
   "source": [
    "allDataVector = vectorizer.fit_transform(allDataTweet)"
   ]
  },
  {
   "cell_type": "code",
   "execution_count": 40,
   "metadata": {},
   "outputs": [
    {
     "data": {
      "text/plain": [
       "(8936, 8945)"
      ]
     },
     "execution_count": 40,
     "metadata": {},
     "output_type": "execute_result"
    }
   ],
   "source": [
    "allDataVector.shape"
   ]
  },
  {
   "cell_type": "markdown",
   "metadata": {},
   "source": [
    "Splitting data set into train and test set."
   ]
  },
  {
   "cell_type": "code",
   "execution_count": 41,
   "metadata": {},
   "outputs": [],
   "source": [
    "X_trainMulti, X_testMulti, y_trainMulti, y_testMulti = train_test_split(allDataVector, allDataTarget, random_state=0)"
   ]
  },
  {
   "cell_type": "markdown",
   "metadata": {},
   "source": [
    "Using multiple algorithms and optimzing them for ternary models."
   ]
  },
  {
   "cell_type": "code",
   "execution_count": 42,
   "metadata": {},
   "outputs": [],
   "source": [
    "multiClassAlgos = {'Random Forest':RandomForestClassifier(),'K-Neighbors':KNeighborsClassifier(),\n",
    "                  'Logistic Regression': LogisticRegression(max_iter=200,multi_class='multinomial'),'SVC':OneVsOneClassifier(SVC()),\n",
    "                   'Gradient Boost':OneVsRestClassifier(GradientBoostingClassifier()),'Decision Tree':DecisionTreeClassifier(),\n",
    "                  'XGBoost Classifier':xgbc(),'Naive Bayes':MultinomialNB()}"
   ]
  },
  {
   "cell_type": "markdown",
   "metadata": {},
   "source": [
    "Comparing models by accuracy and confusion matrices.  "
   ]
  },
  {
   "cell_type": "code",
   "execution_count": 43,
   "metadata": {
    "scrolled": false
   },
   "outputs": [
    {
     "name": "stdout",
     "output_type": "stream",
     "text": [
      "Random Forest\n",
      "Training Accuracy: 0.994330050731125\n",
      "[[  18   14  120]\n",
      " [   1  278  457]\n",
      " [  11  126 1209]]\n",
      "              precision    recall  f1-score   support\n",
      "\n",
      "           0       0.60      0.12      0.20       152\n",
      "           1       0.67      0.38      0.48       736\n",
      "           2       0.68      0.90      0.77      1346\n",
      "\n",
      "    accuracy                           0.67      2234\n",
      "   macro avg       0.65      0.46      0.48      2234\n",
      "weighted avg       0.67      0.67      0.64      2234\n",
      "\n",
      "K-Neighbors\n",
      "Training Accuracy: 0.7572366457773799\n",
      "[[  29   38   85]\n",
      " [  15  287  434]\n",
      " [  32  223 1091]]\n",
      "              precision    recall  f1-score   support\n",
      "\n",
      "           0       0.38      0.19      0.25       152\n",
      "           1       0.52      0.39      0.45       736\n",
      "           2       0.68      0.81      0.74      1346\n",
      "\n",
      "    accuracy                           0.63      2234\n",
      "   macro avg       0.53      0.46      0.48      2234\n",
      "weighted avg       0.61      0.63      0.61      2234\n",
      "\n",
      "Logistic Regression\n",
      "Training Accuracy: 0.8093106535362579\n",
      "[[  12   19  121]\n",
      " [   0  348  388]\n",
      " [   1  150 1195]]\n",
      "              precision    recall  f1-score   support\n",
      "\n",
      "           0       0.92      0.08      0.15       152\n",
      "           1       0.67      0.47      0.56       736\n",
      "           2       0.70      0.89      0.78      1346\n",
      "\n",
      "    accuracy                           0.70      2234\n",
      "   macro avg       0.77      0.48      0.49      2234\n",
      "weighted avg       0.71      0.70      0.67      2234\n",
      "\n",
      "SVC\n",
      "Training Accuracy: 0.9031632348552671\n",
      "[[  17    9  126]\n",
      " [   0  309  427]\n",
      " [   5  120 1221]]\n",
      "              precision    recall  f1-score   support\n",
      "\n",
      "           0       0.77      0.11      0.20       152\n",
      "           1       0.71      0.42      0.53       736\n",
      "           2       0.69      0.91      0.78      1346\n",
      "\n",
      "    accuracy                           0.69      2234\n",
      "   macro avg       0.72      0.48      0.50      2234\n",
      "weighted avg       0.70      0.69      0.66      2234\n",
      "\n",
      "Gradient Boost\n",
      "Training Accuracy: 0.7082960310355118\n",
      "[[  10   11  131]\n",
      " [   3  195  538]\n",
      " [   3   50 1293]]\n",
      "              precision    recall  f1-score   support\n",
      "\n",
      "           0       0.62      0.07      0.12       152\n",
      "           1       0.76      0.26      0.39       736\n",
      "           2       0.66      0.96      0.78      1346\n",
      "\n",
      "    accuracy                           0.67      2234\n",
      "   macro avg       0.68      0.43      0.43      2234\n",
      "weighted avg       0.69      0.67      0.61      2234\n",
      "\n",
      "Decision Tree\n",
      "Training Accuracy: 0.994330050731125\n",
      "[[  34   46   72]\n",
      " [  33  368  335]\n",
      " [  43  295 1008]]\n",
      "              precision    recall  f1-score   support\n",
      "\n",
      "           0       0.31      0.22      0.26       152\n",
      "           1       0.52      0.50      0.51       736\n",
      "           2       0.71      0.75      0.73      1346\n",
      "\n",
      "    accuracy                           0.63      2234\n",
      "   macro avg       0.51      0.49      0.50      2234\n",
      "weighted avg       0.62      0.63      0.63      2234\n",
      "\n",
      "XGBoost Classifier\n",
      "Training Accuracy: 0.8555655028349747\n",
      "[[  20   25  107]\n",
      " [   3  314  419]\n",
      " [  14  155 1177]]\n",
      "              precision    recall  f1-score   support\n",
      "\n",
      "           0       0.54      0.13      0.21       152\n",
      "           1       0.64      0.43      0.51       736\n",
      "           2       0.69      0.87      0.77      1346\n",
      "\n",
      "    accuracy                           0.68      2234\n",
      "   macro avg       0.62      0.48      0.50      2234\n",
      "weighted avg       0.66      0.68      0.65      2234\n",
      "\n",
      "Naive Bayes\n",
      "Training Accuracy: 0.7433601909877648\n",
      "[[   1   10  141]\n",
      " [   0  178  558]\n",
      " [   0   71 1275]]\n",
      "              precision    recall  f1-score   support\n",
      "\n",
      "           0       1.00      0.01      0.01       152\n",
      "           1       0.69      0.24      0.36       736\n",
      "           2       0.65      0.95      0.77      1346\n",
      "\n",
      "    accuracy                           0.65      2234\n",
      "   macro avg       0.78      0.40      0.38      2234\n",
      "weighted avg       0.68      0.65      0.58      2234\n",
      "\n"
     ]
    }
   ],
   "source": [
    "ModelCompareMulti(multiClassAlgos,X_trainMulti,y_trainMulti,X_testMulti,y_testMulti,labels=[0,1,2])"
   ]
  },
  {
   "cell_type": "markdown",
   "metadata": {},
   "source": [
    "### Iteration 2"
   ]
  },
  {
   "cell_type": "markdown",
   "metadata": {},
   "source": [
    "Getting all unique positive, negative, and neutral words."
   ]
  },
  {
   "cell_type": "code",
   "execution_count": 44,
   "metadata": {},
   "outputs": [],
   "source": [
    "allPositiveWords = [word for word in lemPositive if (word not in lemNegative) & (word not in lemNeutral)]\n",
    "allNegativeWords = [word for word in lemNegative if (word not in lemPositive) & (word not in lemNeutral)]\n",
    "allNeutralWords = [word for word in lemNeutral if (word not in lemNegative) & (word not in lemPositive)]"
   ]
  },
  {
   "cell_type": "markdown",
   "metadata": {},
   "source": [
    "Checking frequency of words."
   ]
  },
  {
   "cell_type": "code",
   "execution_count": 171,
   "metadata": {},
   "outputs": [],
   "source": [
    "freqAllPositive = FreqDist(allPositiveWords)\n",
    "freqAllNegative = FreqDist(allNegativeWords)\n",
    "freqAllNeutral = FreqDist(allNeutralWords)"
   ]
  },
  {
   "cell_type": "markdown",
   "metadata": {},
   "source": [
    "Ordering frequency dictionaries by values."
   ]
  },
  {
   "cell_type": "code",
   "execution_count": 172,
   "metadata": {},
   "outputs": [],
   "source": [
    "orderedAllPositiveWords = {k: v for k, v in sorted(freqAllPositive.items(), key=lambda item: item[1],reverse= True)}\n",
    "orderedAllNegativeWords = {k: v for k, v in sorted(freqAllNegative.items(), key=lambda item: item[1],reverse= True)}\n",
    "orderedAllNeutralWords = {k: v for k, v in sorted(freqAllNeutral.items(), key=lambda item: item[1],reverse= True)}"
   ]
  },
  {
   "cell_type": "markdown",
   "metadata": {},
   "source": [
    "Visualizing dictionaries."
   ]
  },
  {
   "cell_type": "code",
   "execution_count": 186,
   "metadata": {
    "scrolled": false
   },
   "outputs": [
    {
     "data": {
      "image/png": "[encoded data removed]",
      "text/plain": [
       "<Figure size 2088x720 with 4 Axes>"
      ]
     },
     "metadata": {},
     "output_type": "display_data"
    }
   ],
   "source": [
    "with plt.style.context('ggplot'):\n",
    "    fig, ax = plt.subplots(nrows=2, ncols=2,figsize=(29,10))\n",
    "    orderedData = [orderedAllPositiveWords,orderedAllNegativeWords,orderedAllNeutralWords]\n",
    "    i = 0\n",
    "    for row in ax:\n",
    "        for col in row:\n",
    "            x = list(orderedData[i].keys())[:10]\n",
    "            y = list(orderedData[i].values())[:10]\n",
    "            sns.barplot(x,y,ax=col)\n",
    "            i += 1\n",
    "            if i == 3:\n",
    "                break\n",
    "        if i == 3:\n",
    "            break"
   ]
  },
  {
   "cell_type": "markdown",
   "metadata": {},
   "source": [
    "Finding common words from positive, negative, and neutral."
   ]
  },
  {
   "cell_type": "code",
   "execution_count": 45,
   "metadata": {},
   "outputs": [],
   "source": [
    "allWordsDataset = lemPositive + lemNegative + lemNeutral\n",
    "commonWordsDataset = [word for word in allWords if (word not in allPositiveWords) and (word not in allNegativeWords) and (word not in allNeutralWords)]"
   ]
  },
  {
   "cell_type": "markdown",
   "metadata": {},
   "source": [
    "Cleaning tweets and removing commong words. Turning neutral = 2, positive = 1, and negative = 0."
   ]
  },
  {
   "cell_type": "code",
   "execution_count": 46,
   "metadata": {},
   "outputs": [],
   "source": [
    "allDataTweetUnique = data.tweet.map(lambda x: cleanTweets(x,commonWords))\n",
    "allDataTargetUnique = data.emotion.map(lambda x: 2 if x=='neutral' else 1 if x=='positive' else 0)"
   ]
  },
  {
   "cell_type": "markdown",
   "metadata": {},
   "source": [
    "Vectorizing tweets."
   ]
  },
  {
   "cell_type": "code",
   "execution_count": 47,
   "metadata": {},
   "outputs": [],
   "source": [
    "allDataVectorUnique = vectorizer.fit_transform(allDataTweetUnique)"
   ]
  },
  {
   "cell_type": "code",
   "execution_count": 48,
   "metadata": {},
   "outputs": [
    {
     "data": {
      "text/plain": [
       "(8936, 8355)"
      ]
     },
     "execution_count": 48,
     "metadata": {},
     "output_type": "execute_result"
    }
   ],
   "source": [
    "allDataVectorUnique.shape"
   ]
  },
  {
   "cell_type": "markdown",
   "metadata": {},
   "source": [
    "Splitting set into test and train set."
   ]
  },
  {
   "cell_type": "code",
   "execution_count": 49,
   "metadata": {},
   "outputs": [],
   "source": [
    "X_trainMultiUnique, X_testMultiUnique, y_trainMultiUnique, y_testMultiUnique = train_test_split(allDataVectorUnique, \n",
    "                                                                                                allDataTargetUnique, random_state=0)"
   ]
  },
  {
   "cell_type": "markdown",
   "metadata": {},
   "source": [
    "Compaing algorithms by accuracy and confusion matrices."
   ]
  },
  {
   "cell_type": "code",
   "execution_count": 50,
   "metadata": {
    "scrolled": false
   },
   "outputs": [
    {
     "name": "stdout",
     "output_type": "stream",
     "text": [
      "Random Forest\n",
      "Training Accuracy: 0.9192778275141749\n",
      "[[  41    7  104]\n",
      " [   6  267  463]\n",
      " [  25  183 1138]]\n",
      "              precision    recall  f1-score   support\n",
      "\n",
      "           0       0.57      0.27      0.37       152\n",
      "           1       0.58      0.36      0.45       736\n",
      "           2       0.67      0.85      0.75      1346\n",
      "\n",
      "    accuracy                           0.65      2234\n",
      "   macro avg       0.61      0.49      0.52      2234\n",
      "weighted avg       0.63      0.65      0.62      2234\n",
      "\n",
      "K-Neighbors\n",
      "Training Accuracy: 0.7442554461354819\n",
      "[[  26   13  113]\n",
      " [  14  200  522]\n",
      " [  35  188 1123]]\n",
      "              precision    recall  f1-score   support\n",
      "\n",
      "           0       0.35      0.17      0.23       152\n",
      "           1       0.50      0.27      0.35       736\n",
      "           2       0.64      0.83      0.72      1346\n",
      "\n",
      "    accuracy                           0.60      2234\n",
      "   macro avg       0.49      0.43      0.43      2234\n",
      "weighted avg       0.57      0.60      0.57      2234\n",
      "\n",
      "Logistic Regression\n",
      "Training Accuracy: 0.8060280513279618\n",
      "[[  18    7  127]\n",
      " [   0  237  499]\n",
      " [   3  131 1212]]\n",
      "              precision    recall  f1-score   support\n",
      "\n",
      "           0       0.86      0.12      0.21       152\n",
      "           1       0.63      0.32      0.43       736\n",
      "           2       0.66      0.90      0.76      1346\n",
      "\n",
      "    accuracy                           0.66      2234\n",
      "   macro avg       0.72      0.45      0.47      2234\n",
      "weighted avg       0.66      0.66      0.61      2234\n",
      "\n",
      "SVC\n",
      "Training Accuracy: 0.8830199940316323\n",
      "[[  25    4  123]\n",
      " [   0  220  516]\n",
      " [   9  101 1236]]\n",
      "              precision    recall  f1-score   support\n",
      "\n",
      "           0       0.74      0.16      0.27       152\n",
      "           1       0.68      0.30      0.41       736\n",
      "           2       0.66      0.92      0.77      1346\n",
      "\n",
      "    accuracy                           0.66      2234\n",
      "   macro avg       0.69      0.46      0.48      2234\n",
      "weighted avg       0.67      0.66      0.62      2234\n",
      "\n",
      "Gradient Boost\n",
      "Training Accuracy: 0.6606982990152194\n",
      "[[  11    2  139]\n",
      " [   3   84  649]\n",
      " [   2   24 1320]]\n",
      "              precision    recall  f1-score   support\n",
      "\n",
      "           0       0.69      0.07      0.13       152\n",
      "           1       0.76      0.11      0.20       736\n",
      "           2       0.63      0.98      0.76      1346\n",
      "\n",
      "    accuracy                           0.63      2234\n",
      "   macro avg       0.69      0.39      0.36      2234\n",
      "weighted avg       0.68      0.63      0.53      2234\n",
      "\n",
      "Decision Tree\n",
      "Training Accuracy: 0.9192778275141749\n",
      "[[  44   13   95]\n",
      " [  10  306  420]\n",
      " [  42  242 1062]]\n",
      "              precision    recall  f1-score   support\n",
      "\n",
      "           0       0.46      0.29      0.35       152\n",
      "           1       0.55      0.42      0.47       736\n",
      "           2       0.67      0.79      0.73      1346\n",
      "\n",
      "    accuracy                           0.63      2234\n",
      "   macro avg       0.56      0.50      0.52      2234\n",
      "weighted avg       0.62      0.63      0.62      2234\n",
      "\n",
      "XGBoost Classifier\n",
      "Training Accuracy: 0.7220232766338407\n",
      "[[  22    9  121]\n",
      " [   6  152  578]\n",
      " [  10   78 1258]]\n",
      "              precision    recall  f1-score   support\n",
      "\n",
      "           0       0.58      0.14      0.23       152\n",
      "           1       0.64      0.21      0.31       736\n",
      "           2       0.64      0.93      0.76      1346\n",
      "\n",
      "    accuracy                           0.64      2234\n",
      "   macro avg       0.62      0.43      0.44      2234\n",
      "weighted avg       0.64      0.64      0.58      2234\n",
      "\n",
      "Naive Bayes\n",
      "Training Accuracy: 0.7782751417487317\n",
      "[[   4    9  139]\n",
      " [   0  204  532]\n",
      " [   1  122 1223]]\n",
      "              precision    recall  f1-score   support\n",
      "\n",
      "           0       0.80      0.03      0.05       152\n",
      "           1       0.61      0.28      0.38       736\n",
      "           2       0.65      0.91      0.75      1346\n",
      "\n",
      "    accuracy                           0.64      2234\n",
      "   macro avg       0.68      0.40      0.40      2234\n",
      "weighted avg       0.64      0.64      0.58      2234\n",
      "\n"
     ]
    }
   ],
   "source": [
    "ModelCompareMulti(multiClassAlgos,X_trainMultiUnique,y_trainMultiUnique,\n",
    "                  X_testMultiUnique,y_testMultiUnique,labels=[0,1,2])"
   ]
  },
  {
   "cell_type": "markdown",
   "metadata": {},
   "source": [
    "### Synthetic Sampling"
   ]
  },
  {
   "cell_type": "markdown",
   "metadata": {},
   "source": [
    "Importing SMOTE."
   ]
  },
  {
   "cell_type": "code",
   "execution_count": 90,
   "metadata": {},
   "outputs": [],
   "source": [
    "from imblearn.over_sampling import SMOTE\n",
    "sm = SMOTE(random_state = 0)"
   ]
  },
  {
   "cell_type": "markdown",
   "metadata": {},
   "source": [
    "Synthetic sampling ternary model data. "
   ]
  },
  {
   "cell_type": "code",
   "execution_count": 94,
   "metadata": {},
   "outputs": [],
   "source": [
    "X_trainMultiResample, y_trainMultiResample = sm.fit_sample(X_trainMulti,y_trainMulti)"
   ]
  },
  {
   "cell_type": "markdown",
   "metadata": {},
   "source": [
    "Comparing algorithms."
   ]
  },
  {
   "cell_type": "code",
   "execution_count": 95,
   "metadata": {
    "scrolled": false
   },
   "outputs": [
    {
     "name": "stdout",
     "output_type": "stream",
     "text": [
      "Random Forest\n",
      "Training Accuracy: 0.9967837704106878\n",
      "[[  31   25   96]\n",
      " [   4  346  386]\n",
      " [  15  187 1144]]\n",
      "              precision    recall  f1-score   support\n",
      "\n",
      "           0       0.62      0.20      0.31       152\n",
      "           1       0.62      0.47      0.53       736\n",
      "           2       0.70      0.85      0.77      1346\n",
      "\n",
      "    accuracy                           0.68      2234\n",
      "   macro avg       0.65      0.51      0.54      2234\n",
      "weighted avg       0.67      0.68      0.66      2234\n",
      "\n",
      "K-Neighbors\n",
      "Training Accuracy: 0.7642256308758041\n",
      "[[121  26   5]\n",
      " [224 441  71]\n",
      " [474 492 380]]\n",
      "              precision    recall  f1-score   support\n",
      "\n",
      "           0       0.15      0.80      0.25       152\n",
      "           1       0.46      0.60      0.52       736\n",
      "           2       0.83      0.28      0.42      1346\n",
      "\n",
      "    accuracy                           0.42      2234\n",
      "   macro avg       0.48      0.56      0.40      2234\n",
      "weighted avg       0.66      0.42      0.44      2234\n",
      "\n",
      "Logistic Regression\n",
      "Training Accuracy: 0.8984001319478806\n",
      "[[ 79  19  54]\n",
      " [ 49 428 259]\n",
      " [103 303 940]]\n",
      "              precision    recall  f1-score   support\n",
      "\n",
      "           0       0.34      0.52      0.41       152\n",
      "           1       0.57      0.58      0.58       736\n",
      "           2       0.75      0.70      0.72      1346\n",
      "\n",
      "    accuracy                           0.65      2234\n",
      "   macro avg       0.55      0.60      0.57      2234\n",
      "weighted avg       0.66      0.65      0.65      2234\n",
      "\n",
      "SVC\n",
      "Training Accuracy: 0.9621474517565561\n",
      "[[  29    8  115]\n",
      " [   2  339  395]\n",
      " [  20  155 1171]]\n",
      "              precision    recall  f1-score   support\n",
      "\n",
      "           0       0.57      0.19      0.29       152\n",
      "           1       0.68      0.46      0.55       736\n",
      "           2       0.70      0.87      0.77      1346\n",
      "\n",
      "    accuracy                           0.69      2234\n",
      "   macro avg       0.65      0.51      0.54      2234\n",
      "weighted avg       0.68      0.69      0.67      2234\n",
      "\n",
      "Gradient Boost\n",
      "Training Accuracy: 0.7870691077024575\n",
      "[[  66   16   70]\n",
      " [  44  326  366]\n",
      " [ 101  211 1034]]\n",
      "              precision    recall  f1-score   support\n",
      "\n",
      "           0       0.31      0.43      0.36       152\n",
      "           1       0.59      0.44      0.51       736\n",
      "           2       0.70      0.77      0.73      1346\n",
      "\n",
      "    accuracy                           0.64      2234\n",
      "   macro avg       0.54      0.55      0.53      2234\n",
      "weighted avg       0.64      0.64      0.63      2234\n",
      "\n",
      "Decision Tree\n",
      "Training Accuracy: 0.9967837704106878\n",
      "[[ 33  43  76]\n",
      " [ 31 360 345]\n",
      " [ 59 341 946]]\n",
      "              precision    recall  f1-score   support\n",
      "\n",
      "           0       0.27      0.22      0.24       152\n",
      "           1       0.48      0.49      0.49       736\n",
      "           2       0.69      0.70      0.70      1346\n",
      "\n",
      "    accuracy                           0.60      2234\n",
      "   macro avg       0.48      0.47      0.47      2234\n",
      "weighted avg       0.59      0.60      0.60      2234\n",
      "\n",
      "XGBoost Classifier\n",
      "Training Accuracy: 0.9042553191489362\n",
      "[[  34   18  100]\n",
      " [   9  331  396]\n",
      " [  29  177 1140]]\n",
      "              precision    recall  f1-score   support\n",
      "\n",
      "           0       0.47      0.22      0.30       152\n",
      "           1       0.63      0.45      0.52       736\n",
      "           2       0.70      0.85      0.76      1346\n",
      "\n",
      "    accuracy                           0.67      2234\n",
      "   macro avg       0.60      0.51      0.53      2234\n",
      "weighted avg       0.66      0.67      0.65      2234\n",
      "\n",
      "Naive Bayes\n",
      "Training Accuracy: 0.8564242124360878\n",
      "[[ 93  31  28]\n",
      " [ 82 462 192]\n",
      " [161 426 759]]\n",
      "              precision    recall  f1-score   support\n",
      "\n",
      "           0       0.28      0.61      0.38       152\n",
      "           1       0.50      0.63      0.56       736\n",
      "           2       0.78      0.56      0.65      1346\n",
      "\n",
      "    accuracy                           0.59      2234\n",
      "   macro avg       0.52      0.60      0.53      2234\n",
      "weighted avg       0.65      0.59      0.60      2234\n",
      "\n"
     ]
    }
   ],
   "source": [
    "ModelCompareMulti(multiClassAlgos,X_trainMultiResample,y_trainMultiResample,X_testMulti,y_testMulti,labels=[0,1,2])"
   ]
  },
  {
   "cell_type": "markdown",
   "metadata": {},
   "source": [
    "Synthetic sampling ternary data set with unique words."
   ]
  },
  {
   "cell_type": "code",
   "execution_count": 99,
   "metadata": {},
   "outputs": [],
   "source": [
    "X_trainMultiUniqueResample, y_trainMultiUniqueResample = sm.fit_sample(X_trainMultiUnique,y_trainMultiUnique)"
   ]
  },
  {
   "cell_type": "markdown",
   "metadata": {},
   "source": [
    "Comparing models."
   ]
  },
  {
   "cell_type": "code",
   "execution_count": 100,
   "metadata": {
    "scrolled": false
   },
   "outputs": [
    {
     "name": "stdout",
     "output_type": "stream",
     "text": [
      "Random Forest\n",
      "Training Accuracy: 0.91753257463302\n",
      "[[101  11  40]\n",
      " [145 346 245]\n",
      " [253 299 794]]\n",
      "              precision    recall  f1-score   support\n",
      "\n",
      "           0       0.20      0.66      0.31       152\n",
      "           1       0.53      0.47      0.50       736\n",
      "           2       0.74      0.59      0.65      1346\n",
      "\n",
      "    accuracy                           0.56      2234\n",
      "   macro avg       0.49      0.57      0.49      2234\n",
      "weighted avg       0.63      0.56      0.58      2234\n",
      "\n",
      "K-Neighbors\n",
      "Training Accuracy: 0.694210786739238\n",
      "[[ 97   5  50]\n",
      " [120 369 247]\n",
      " [333 408 605]]\n",
      "              precision    recall  f1-score   support\n",
      "\n",
      "           0       0.18      0.64      0.28       152\n",
      "           1       0.47      0.50      0.49       736\n",
      "           2       0.67      0.45      0.54      1346\n",
      "\n",
      "    accuracy                           0.48      2234\n",
      "   macro avg       0.44      0.53      0.43      2234\n",
      "weighted avg       0.57      0.48      0.50      2234\n",
      "\n",
      "Logistic Regression\n",
      "Training Accuracy: 0.8617021276595744\n",
      "[[103  12  37]\n",
      " [125 365 246]\n",
      " [208 351 787]]\n",
      "              precision    recall  f1-score   support\n",
      "\n",
      "           0       0.24      0.68      0.35       152\n",
      "           1       0.50      0.50      0.50       736\n",
      "           2       0.74      0.58      0.65      1346\n",
      "\n",
      "    accuracy                           0.56      2234\n",
      "   macro avg       0.49      0.59      0.50      2234\n",
      "weighted avg       0.62      0.56      0.58      2234\n",
      "\n",
      "SVC\n",
      "Training Accuracy: 0.8754741876958602\n",
      "[[  39    5  108]\n",
      " [  47  257  432]\n",
      " [ 103  158 1085]]\n",
      "              precision    recall  f1-score   support\n",
      "\n",
      "           0       0.21      0.26      0.23       152\n",
      "           1       0.61      0.35      0.44       736\n",
      "           2       0.67      0.81      0.73      1346\n",
      "\n",
      "    accuracy                           0.62      2234\n",
      "   macro avg       0.50      0.47      0.47      2234\n",
      "weighted avg       0.62      0.62      0.60      2234\n",
      "\n",
      "Gradient Boost\n",
      "Training Accuracy: 0.6431634504370773\n",
      "[[ 41  99  12]\n",
      " [ 16 583 137]\n",
      " [ 41 806 499]]\n",
      "              precision    recall  f1-score   support\n",
      "\n",
      "           0       0.42      0.27      0.33       152\n",
      "           1       0.39      0.79      0.52       736\n",
      "           2       0.77      0.37      0.50      1346\n",
      "\n",
      "    accuracy                           0.50      2234\n",
      "   macro avg       0.53      0.48      0.45      2234\n",
      "weighted avg       0.62      0.50      0.50      2234\n",
      "\n",
      "Decision Tree\n",
      "Training Accuracy: 0.917615042058387\n",
      "[[103  13  36]\n",
      " [164 317 255]\n",
      " [286 291 769]]\n",
      "              precision    recall  f1-score   support\n",
      "\n",
      "           0       0.19      0.68      0.29       152\n",
      "           1       0.51      0.43      0.47       736\n",
      "           2       0.73      0.57      0.64      1346\n",
      "\n",
      "    accuracy                           0.53      2234\n",
      "   macro avg       0.47      0.56      0.47      2234\n",
      "weighted avg       0.62      0.53      0.56      2234\n",
      "\n",
      "XGBoost Classifier\n",
      "Training Accuracy: 0.7543295398317664\n",
      "[[ 42  92  18]\n",
      " [ 17 524 195]\n",
      " [ 41 691 614]]\n",
      "              precision    recall  f1-score   support\n",
      "\n",
      "           0       0.42      0.28      0.33       152\n",
      "           1       0.40      0.71      0.51       736\n",
      "           2       0.74      0.46      0.57      1346\n",
      "\n",
      "    accuracy                           0.53      2234\n",
      "   macro avg       0.52      0.48      0.47      2234\n",
      "weighted avg       0.61      0.53      0.53      2234\n",
      "\n",
      "Naive Bayes\n",
      "Training Accuracy: 0.8466930562427841\n",
      "[[106  10  36]\n",
      " [134 381 221]\n",
      " [252 364 730]]\n",
      "              precision    recall  f1-score   support\n",
      "\n",
      "           0       0.22      0.70      0.33       152\n",
      "           1       0.50      0.52      0.51       736\n",
      "           2       0.74      0.54      0.63      1346\n",
      "\n",
      "    accuracy                           0.54      2234\n",
      "   macro avg       0.49      0.59      0.49      2234\n",
      "weighted avg       0.63      0.54      0.57      2234\n",
      "\n"
     ]
    }
   ],
   "source": [
    "ModelCompareMulti(multiClassAlgos,X_trainMultiUniqueResample,y_trainMultiUniqueResample,\n",
    "                  X_testMultiUnique,y_testMultiUnique,labels=[0,1,2])"
   ]
  },
  {
   "cell_type": "markdown",
   "metadata": {},
   "source": [
    "Synthetic sampling binary data set. "
   ]
  },
  {
   "cell_type": "code",
   "execution_count": 101,
   "metadata": {},
   "outputs": [],
   "source": [
    "X_trainResample, y_trainResample = sm.fit_sample(X_train,y_train)"
   ]
  },
  {
   "cell_type": "markdown",
   "metadata": {},
   "source": [
    "Comparing models."
   ]
  },
  {
   "cell_type": "code",
   "execution_count": 102,
   "metadata": {},
   "outputs": [
    {
     "data": {
      "text/html": [
       "<div>\n",
       "<style scoped>\n",
       "    .dataframe tbody tr th:only-of-type {\n",
       "        vertical-align: middle;\n",
       "    }\n",
       "\n",
       "    .dataframe tbody tr th {\n",
       "        vertical-align: top;\n",
       "    }\n",
       "\n",
       "    .dataframe thead th {\n",
       "        text-align: right;\n",
       "    }\n",
       "</style>\n",
       "<table border=\"1\" class=\"dataframe\">\n",
       "  <thead>\n",
       "    <tr style=\"text-align: right;\">\n",
       "      <th></th>\n",
       "      <th>Models</th>\n",
       "      <th>Training Accuracy</th>\n",
       "      <th>Test Accuracy</th>\n",
       "      <th>F1 Train</th>\n",
       "      <th>F1 Test</th>\n",
       "    </tr>\n",
       "  </thead>\n",
       "  <tbody>\n",
       "    <tr>\n",
       "      <th>7</th>\n",
       "      <td>SVC</td>\n",
       "      <td>0.997321</td>\n",
       "      <td>0.877114</td>\n",
       "      <td>0.997321</td>\n",
       "      <td>0.930969</td>\n",
       "    </tr>\n",
       "    <tr>\n",
       "      <th>3</th>\n",
       "      <td>Random Forest</td>\n",
       "      <td>1.000000</td>\n",
       "      <td>0.868095</td>\n",
       "      <td>1.000000</td>\n",
       "      <td>0.925144</td>\n",
       "    </tr>\n",
       "    <tr>\n",
       "      <th>6</th>\n",
       "      <td>XGBoost Classifier</td>\n",
       "      <td>0.971205</td>\n",
       "      <td>0.861330</td>\n",
       "      <td>0.971975</td>\n",
       "      <td>0.921103</td>\n",
       "    </tr>\n",
       "    <tr>\n",
       "      <th>0</th>\n",
       "      <td>Logistic Regression</td>\n",
       "      <td>0.966518</td>\n",
       "      <td>0.855693</td>\n",
       "      <td>0.966186</td>\n",
       "      <td>0.912925</td>\n",
       "    </tr>\n",
       "    <tr>\n",
       "      <th>4</th>\n",
       "      <td>AdaBoost</td>\n",
       "      <td>0.866071</td>\n",
       "      <td>0.833145</td>\n",
       "      <td>0.870466</td>\n",
       "      <td>0.900538</td>\n",
       "    </tr>\n",
       "    <tr>\n",
       "      <th>5</th>\n",
       "      <td>Gradient Boost</td>\n",
       "      <td>0.909598</td>\n",
       "      <td>0.829763</td>\n",
       "      <td>0.911937</td>\n",
       "      <td>0.898861</td>\n",
       "    </tr>\n",
       "    <tr>\n",
       "      <th>8</th>\n",
       "      <td>Naive Bayes</td>\n",
       "      <td>0.957366</td>\n",
       "      <td>0.832018</td>\n",
       "      <td>0.956162</td>\n",
       "      <td>0.895292</td>\n",
       "    </tr>\n",
       "    <tr>\n",
       "      <th>2</th>\n",
       "      <td>Decision Tree</td>\n",
       "      <td>1.000000</td>\n",
       "      <td>0.817362</td>\n",
       "      <td>1.000000</td>\n",
       "      <td>0.890836</td>\n",
       "    </tr>\n",
       "    <tr>\n",
       "      <th>1</th>\n",
       "      <td>K-Neighbors</td>\n",
       "      <td>0.677679</td>\n",
       "      <td>0.379932</td>\n",
       "      <td>0.524374</td>\n",
       "      <td>0.413646</td>\n",
       "    </tr>\n",
       "  </tbody>\n",
       "</table>\n",
       "</div>"
      ],
      "text/plain": [
       "                Models  Training Accuracy  Test Accuracy  F1 Train   F1 Test\n",
       "7                  SVC           0.997321       0.877114  0.997321  0.930969\n",
       "3        Random Forest           1.000000       0.868095  1.000000  0.925144\n",
       "6   XGBoost Classifier           0.971205       0.861330  0.971975  0.921103\n",
       "0  Logistic Regression           0.966518       0.855693  0.966186  0.912925\n",
       "4             AdaBoost           0.866071       0.833145  0.870466  0.900538\n",
       "5       Gradient Boost           0.909598       0.829763  0.911937  0.898861\n",
       "8          Naive Bayes           0.957366       0.832018  0.956162  0.895292\n",
       "2        Decision Tree           1.000000       0.817362  1.000000  0.890836\n",
       "1          K-Neighbors           0.677679       0.379932  0.524374  0.413646"
      ]
     },
     "execution_count": 102,
     "metadata": {},
     "output_type": "execute_result"
    }
   ],
   "source": [
    "modelDF = ModelCompare(algos,X_trainResample,y_trainResample,X_test,y_test)\n",
    "modelDF.sort_values('F1 Test',0,False)"
   ]
  },
  {
   "cell_type": "markdown",
   "metadata": {},
   "source": [
    "Synthetic sampling binary unique data set."
   ]
  },
  {
   "cell_type": "code",
   "execution_count": 103,
   "metadata": {},
   "outputs": [],
   "source": [
    "X_trainUniqueResample, y_trainUniqueResample = sm.fit_sample(X_trainUnique,y_trainUnique)"
   ]
  },
  {
   "cell_type": "markdown",
   "metadata": {},
   "source": [
    "Comparing models."
   ]
  },
  {
   "cell_type": "code",
   "execution_count": 104,
   "metadata": {},
   "outputs": [
    {
     "data": {
      "text/html": [
       "<div>\n",
       "<style scoped>\n",
       "    .dataframe tbody tr th:only-of-type {\n",
       "        vertical-align: middle;\n",
       "    }\n",
       "\n",
       "    .dataframe tbody tr th {\n",
       "        vertical-align: top;\n",
       "    }\n",
       "\n",
       "    .dataframe thead th {\n",
       "        text-align: right;\n",
       "    }\n",
       "</style>\n",
       "<table border=\"1\" class=\"dataframe\">\n",
       "  <thead>\n",
       "    <tr style=\"text-align: right;\">\n",
       "      <th></th>\n",
       "      <th>Models</th>\n",
       "      <th>Training Accuracy</th>\n",
       "      <th>Test Accuracy</th>\n",
       "      <th>F1 Train</th>\n",
       "      <th>F1 Test</th>\n",
       "    </tr>\n",
       "  </thead>\n",
       "  <tbody>\n",
       "    <tr>\n",
       "      <th>6</th>\n",
       "      <td>XGBoost Classifier</td>\n",
       "      <td>0.886830</td>\n",
       "      <td>0.843292</td>\n",
       "      <td>0.896170</td>\n",
       "      <td>0.909564</td>\n",
       "    </tr>\n",
       "    <tr>\n",
       "      <th>5</th>\n",
       "      <td>Gradient Boost</td>\n",
       "      <td>0.761830</td>\n",
       "      <td>0.833145</td>\n",
       "      <td>0.803680</td>\n",
       "      <td>0.904762</td>\n",
       "    </tr>\n",
       "    <tr>\n",
       "      <th>4</th>\n",
       "      <td>AdaBoost</td>\n",
       "      <td>0.689063</td>\n",
       "      <td>0.829763</td>\n",
       "      <td>0.757613</td>\n",
       "      <td>0.903391</td>\n",
       "    </tr>\n",
       "    <tr>\n",
       "      <th>7</th>\n",
       "      <td>SVC</td>\n",
       "      <td>0.961830</td>\n",
       "      <td>0.809470</td>\n",
       "      <td>0.960462</td>\n",
       "      <td>0.887408</td>\n",
       "    </tr>\n",
       "    <tr>\n",
       "      <th>0</th>\n",
       "      <td>Logistic Regression</td>\n",
       "      <td>0.954241</td>\n",
       "      <td>0.773393</td>\n",
       "      <td>0.952314</td>\n",
       "      <td>0.847380</td>\n",
       "    </tr>\n",
       "    <tr>\n",
       "      <th>8</th>\n",
       "      <td>Naive Bayes</td>\n",
       "      <td>0.951562</td>\n",
       "      <td>0.760992</td>\n",
       "      <td>0.949405</td>\n",
       "      <td>0.836420</td>\n",
       "    </tr>\n",
       "    <tr>\n",
       "      <th>3</th>\n",
       "      <td>Random Forest</td>\n",
       "      <td>0.962946</td>\n",
       "      <td>0.711387</td>\n",
       "      <td>0.961610</td>\n",
       "      <td>0.799373</td>\n",
       "    </tr>\n",
       "    <tr>\n",
       "      <th>2</th>\n",
       "      <td>Decision Tree</td>\n",
       "      <td>0.962946</td>\n",
       "      <td>0.659526</td>\n",
       "      <td>0.961574</td>\n",
       "      <td>0.753268</td>\n",
       "    </tr>\n",
       "    <tr>\n",
       "      <th>1</th>\n",
       "      <td>K-Neighbors</td>\n",
       "      <td>0.711830</td>\n",
       "      <td>0.378805</td>\n",
       "      <td>0.597443</td>\n",
       "      <td>0.410695</td>\n",
       "    </tr>\n",
       "  </tbody>\n",
       "</table>\n",
       "</div>"
      ],
      "text/plain": [
       "                Models  Training Accuracy  Test Accuracy  F1 Train   F1 Test\n",
       "6   XGBoost Classifier           0.886830       0.843292  0.896170  0.909564\n",
       "5       Gradient Boost           0.761830       0.833145  0.803680  0.904762\n",
       "4             AdaBoost           0.689063       0.829763  0.757613  0.903391\n",
       "7                  SVC           0.961830       0.809470  0.960462  0.887408\n",
       "0  Logistic Regression           0.954241       0.773393  0.952314  0.847380\n",
       "8          Naive Bayes           0.951562       0.760992  0.949405  0.836420\n",
       "3        Random Forest           0.962946       0.711387  0.961610  0.799373\n",
       "2        Decision Tree           0.962946       0.659526  0.961574  0.753268\n",
       "1          K-Neighbors           0.711830       0.378805  0.597443  0.410695"
      ]
     },
     "execution_count": 104,
     "metadata": {},
     "output_type": "execute_result"
    }
   ],
   "source": [
    "modelDF = ModelCompare(algos,X_trainUniqueResample,y_trainUniqueResample,X_testUnique,y_testUnique)\n",
    "modelDF.sort_values('F1 Test',0,False)"
   ]
  },
  {
   "cell_type": "markdown",
   "metadata": {},
   "source": [
    "### Iteration 3 (Binary and Ternary)"
   ]
  },
  {
   "cell_type": "markdown",
   "metadata": {},
   "source": [
    "Using gridsearch to tune best performing algorithms."
   ]
  },
  {
   "cell_type": "code",
   "execution_count": 135,
   "metadata": {},
   "outputs": [],
   "source": [
    "from sklearn.model_selection import GridSearchCV as grid"
   ]
  },
  {
   "cell_type": "markdown",
   "metadata": {},
   "source": [
    "Initializing best performing algorithms."
   ]
  },
  {
   "cell_type": "code",
   "execution_count": 137,
   "metadata": {},
   "outputs": [],
   "source": [
    "rf = RandomForestClassifier()\n",
    "svc = OneVsOneClassifier(SVC())"
   ]
  },
  {
   "cell_type": "markdown",
   "metadata": {},
   "source": [
    "Fitting algorithms with best performing data set."
   ]
  },
  {
   "cell_type": "code",
   "execution_count": 123,
   "metadata": {},
   "outputs": [],
   "source": [
    "modelRF = rf.fit(X_trainUnique,y_trainUnique)\n",
    "modelSVC = svc.fit(X_trainMulti,y_trainMulti)"
   ]
  },
  {
   "cell_type": "markdown",
   "metadata": {},
   "source": [
    "Testing."
   ]
  },
  {
   "cell_type": "code",
   "execution_count": 125,
   "metadata": {},
   "outputs": [],
   "source": [
    "resultsRF = modelRF.predict(X_testUnique)\n",
    "resultsSVC = modelSVC.predict(X_testMulti)"
   ]
  },
  {
   "cell_type": "markdown",
   "metadata": {},
   "source": [
    "Analyzing Random Forest by confusion matrix and analyzing classifiaction report."
   ]
  },
  {
   "cell_type": "code",
   "execution_count": 188,
   "metadata": {},
   "outputs": [
    {
     "name": "stdout",
     "output_type": "stream",
     "text": [
      "Random Forest\n",
      "[[ 52  97]\n",
      " [  7 731]]\n",
      "              precision    recall  f1-score   support\n",
      "\n",
      "           0       0.88      0.35      0.50       149\n",
      "           1       0.88      0.99      0.93       738\n",
      "\n",
      "    accuracy                           0.88       887\n",
      "   macro avg       0.88      0.67      0.72       887\n",
      "weighted avg       0.88      0.88      0.86       887\n",
      "\n"
     ]
    }
   ],
   "source": [
    "print('Random Forest')\n",
    "print(confusion_matrix(y_testUnique,resultsRF))\n",
    "print(classification_report(y_testUnique,resultsRF))"
   ]
  },
  {
   "cell_type": "markdown",
   "metadata": {},
   "source": [
    "Analysing SVC by confusion matrix and classification report."
   ]
  },
  {
   "cell_type": "code",
   "execution_count": 187,
   "metadata": {},
   "outputs": [
    {
     "name": "stdout",
     "output_type": "stream",
     "text": [
      "SVC\n",
      "[[  17    9  126]\n",
      " [   0  309  427]\n",
      " [   5  120 1221]]\n",
      "              precision    recall  f1-score   support\n",
      "\n",
      "           0       0.77      0.11      0.20       152\n",
      "           1       0.71      0.42      0.53       736\n",
      "           2       0.69      0.91      0.78      1346\n",
      "\n",
      "    accuracy                           0.69      2234\n",
      "   macro avg       0.72      0.48      0.50      2234\n",
      "weighted avg       0.70      0.69      0.66      2234\n",
      "\n"
     ]
    }
   ],
   "source": [
    "print('SVC')\n",
    "print(confusion_matrix(y_testMulti,resultsSVC))\n",
    "print(classification_report(y_testMulti,resultsSVC))"
   ]
  },
  {
   "cell_type": "markdown",
   "metadata": {},
   "source": [
    "Running Grid Search on Random Forest Classifier. Grid Search ran on google colab."
   ]
  },
  {
   "cell_type": "code",
   "execution_count": null,
   "metadata": {},
   "outputs": [],
   "source": [
    "'''rfParams = {'n_estimators':[90,95,100,105,110],'criterion':['gini','entropy'],\n",
    "            'min_samples_split':[2,3,4,5],'min_samples_leaf':[1,2,3,4,5],\n",
    "            'min_weight_fraction_leaf':[0,.1,.2,.3,.4,.5],\n",
    "            'max_features':['auto', 'sqrt', 'log2'],'bootstrap':[True,False]}\n",
    "\n",
    "gridRF = grid(rf,rfParams,scoring='accuracy',n_jobs=-1)\n",
    "\n",
    "gridRF.fit(X_trainUnique,y_trainUnique)\n",
    "\n",
    "gridRF.best_params_\n",
    "\n",
    "output:\n",
    "{bootstrap:'False'\n",
    "criterion:'entropy'\n",
    "max_features:'log2'\n",
    "min_sample_leaf:1\n",
    "min_sample_split:2\n",
    "min_weight_fraction_leaf:0\n",
    "n_estimators:100\n",
    "}\n",
    "\n",
    "'''"
   ]
  },
  {
   "cell_type": "markdown",
   "metadata": {},
   "source": [
    "Running Grid Search on SVC. Grid Search ran on google colab."
   ]
  },
  {
   "cell_type": "code",
   "execution_count": null,
   "metadata": {},
   "outputs": [],
   "source": [
    "'''svcParams = {'estimator__C':[2,3],'estimator__kernel':['linear','poly','rbf','sigmoid','precomputer'],\n",
    "             'estimator__degree':[1,2,3,4,5],'estimator__coef0':[0,1,2,3,4,5],'estimator__gamma':['scale','auto'],\n",
    "         'estimator__shrinking':[True,False],'estimator__decision_function_shape':['ovo','ovr']}\n",
    "\n",
    "gridSVC = grid(svc,svcParams,scoring = 'accuracy',n_jobs=-1)\n",
    "\n",
    "gridSVC.fit(X_trainMulti,y_trainMulti)\n",
    "\n",
    "gridSVC.best_params\n",
    "'''"
   ]
  },
  {
   "cell_type": "markdown",
   "metadata": {},
   "source": [
    "Tuned algorithms with Grid Search parameters."
   ]
  },
  {
   "cell_type": "code",
   "execution_count": 167,
   "metadata": {},
   "outputs": [],
   "source": [
    "tunedRF = RandomForestClassifier(criterion='entropy',max_features='log2',bootstrap=False)"
   ]
  },
  {
   "cell_type": "markdown",
   "metadata": {},
   "source": [
    "Fitting data."
   ]
  },
  {
   "cell_type": "code",
   "execution_count": 168,
   "metadata": {},
   "outputs": [
    {
     "data": {
      "text/plain": [
       "RandomForestClassifier(bootstrap=False, criterion='entropy',\n",
       "                       max_features='log2')"
      ]
     },
     "execution_count": 168,
     "metadata": {},
     "output_type": "execute_result"
    }
   ],
   "source": [
    "tunedRF.fit(X_trainUnique,y_trainUnique)"
   ]
  },
  {
   "cell_type": "markdown",
   "metadata": {},
   "source": [
    "Testing."
   ]
  },
  {
   "cell_type": "code",
   "execution_count": 169,
   "metadata": {},
   "outputs": [],
   "source": [
    "resultsTunedRF = tunedRF.predict(X_testUnique)"
   ]
  },
  {
   "cell_type": "markdown",
   "metadata": {},
   "source": [
    "Analyzing tuned Random Forest Classifier."
   ]
  },
  {
   "cell_type": "code",
   "execution_count": 189,
   "metadata": {},
   "outputs": [
    {
     "name": "stdout",
     "output_type": "stream",
     "text": [
      "Random Forest Tuned\n",
      "[[ 60  89]\n",
      " [ 11 727]]\n",
      "              precision    recall  f1-score   support\n",
      "\n",
      "           0       0.85      0.40      0.55       149\n",
      "           1       0.89      0.99      0.94       738\n",
      "\n",
      "    accuracy                           0.89       887\n",
      "   macro avg       0.87      0.69      0.74       887\n",
      "weighted avg       0.88      0.89      0.87       887\n",
      "\n"
     ]
    }
   ],
   "source": [
    "print('Random Forest Tuned')\n",
    "print(confusion_matrix(y_testUnique,resultsTunedRF))\n",
    "print(classification_report(y_testUnique,resultsTunedRF))"
   ]
  }
 ],
 "metadata": {
  "kernelspec": {
   "display_name": "Python 3",
   "language": "python",
   "name": "python3"
  },
  "language_info": {
   "codemirror_mode": {
    "name": "ipython",
    "version": 3
   },
   "file_extension": ".py",
   "mimetype": "text/x-python",
   "name": "python",
   "nbconvert_exporter": "python",
   "pygments_lexer": "ipython3",
   "version": "3.7.7"
  }
 },
 "nbformat": 4,
 "nbformat_minor": 4
}
